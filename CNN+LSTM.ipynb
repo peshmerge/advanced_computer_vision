{
 "cells": [
  {
   "cell_type": "code",
   "execution_count": 1,
   "metadata": {},
   "outputs": [],
   "source": [
    "import os\n",
    "import math\n",
    "import random\n",
    "import numpy as np\n",
    "import datetime as dt\n",
    "import tensorflow as tf\n",
    "from collections import deque\n",
    "import matplotlib.pyplot as plt\n",
    "\n",
    "%matplotlib inline\n",
    "\n",
    "from sklearn.model_selection import train_test_split\n",
    "\n",
    "import tensorflow as tf\n",
    "from tensorflow.keras.layers import TimeDistributed,LSTM,Dense,Flatten,Dropout,GlobalAveragePooling2D\n",
    "from tensorflow.keras.applications.resnet50 import ResNet50 \n",
    "from tensorflow.keras import Input\n",
    "from tensorflow.keras import Model\n",
    "from tensorflow.keras.layers import *\n",
    "from tensorflow.keras.models import Sequential\n",
    "from tensorflow.keras.utils import to_categorical\n",
    "from tensorflow.keras.callbacks import EarlyStopping\n",
    "from tensorflow.keras.utils import plot_model\n",
    "from keras.applications.vgg16 import VGG16\n",
    "from keras import  models\n",
    "\n",
    "from batch_data_generator import DataGenerator"
   ]
  },
  {
   "cell_type": "markdown",
   "metadata": {},
   "source": [
    "## 1. Global configs for all models"
   ]
  },
  {
   "cell_type": "code",
   "execution_count": 2,
   "metadata": {},
   "outputs": [],
   "source": [
    "seed_constant = 123\n",
    "np.random.seed(seed_constant)\n",
    "random.seed(seed_constant)\n",
    "tf.random.set_seed(seed_constant)"
   ]
  },
  {
   "cell_type": "code",
   "execution_count": 3,
   "metadata": {},
   "outputs": [
    {
     "name": "stdout",
     "output_type": "stream",
     "text": [
      "[PhysicalDevice(name='/physical_device:GPU:0', device_type='GPU')]\n"
     ]
    },
    {
     "data": {
      "text/plain": [
       "0"
      ]
     },
     "execution_count": 3,
     "metadata": {},
     "output_type": "execute_result"
    }
   ],
   "source": [
    "# gpus = tf.config.list_physical_devices('GPU')\n",
    "# if gpus:\n",
    "#   try:\n",
    "#     # Currently, memory growth needs to be the same across GPUs\n",
    "#     for gpu in gpus:\n",
    "#       tf.config.experimental.set_memory_growth(gpu, True)\n",
    "#     logical_gpus = tf.config.list_logical_devices('GPU')\n",
    "#     print(len(gpus), \"Physical GPUs,\", len(logical_gpus), \"Logical GPUs\")\n",
    "#   except RuntimeError as e:\n",
    "#     # Memory growth must be set before GPUs have been initialized\n",
    "#     print(e)\n",
    "\n",
    "# print(tf.config.list_physical_devices('GPU'))\n",
    "# if tf.config.list_physical_devices('GPU'):\n",
    "#     print(tf.config.experimental.get_memory_info('GPU:0'))\n",
    "#     print(tf.config.experimental.get_memory_info('GPU:1'))\n",
    "\n",
    "print(tf.config.list_physical_devices('GPU'))\n",
    "tf.config.experimental.get_memory_info('GPU:0')['current']"
   ]
  },
  {
   "cell_type": "code",
   "execution_count": 4,
   "metadata": {},
   "outputs": [
    {
     "name": "stdout",
     "output_type": "stream",
     "text": [
      "7\n"
     ]
    }
   ],
   "source": [
    "# Data paths are defined here\n",
    "DATA_DIR = 'data'\n",
    "VIDEO_PATH = os.path.join(DATA_DIR, 'videos')\n",
    "ANNOTATION_PATH = os.path.join(DATA_DIR, 'annotations')\n",
    "TRAINING_PATH = os.path.join(VIDEO_PATH, 'training')\n",
    "TESTING_PATH = os.path.join(VIDEO_PATH, 'testing')\n",
    "VALIDATION_PATH = os.path.join(VIDEO_PATH, 'validation')\n",
    "\n",
    "# Specify the number of frames of a video that will be fed to the model as one sequence.\n",
    "SEQUENCE_LENGTH = 30\n",
    "\n",
    "# Set a minimum duration in seconds to extract sequence in multiples of\n",
    "MIN_DURATION = 150\n",
    "\n",
    "(DIMENSION_X, DIMENSION_Y, DIMENSION_C) = (224, 224, 3)\n",
    "\n",
    "# Get the names of all classes/categories in our dataset.\n",
    "CLASSES_LIST = os.listdir(TRAINING_PATH)\n",
    "\n",
    "\n",
    "TRAINING_BATCH_SIZE = 5\n",
    "VALIDATION_BATCH_SIZE = 5\n",
    "\n",
    "NR_EPOCHS = 60\n",
    "NR_WORKERS = 6\n",
    "\n",
    "\n",
    "class_mapping = {\n",
    "'_cut___chop___slice_a_vegetable,_fruit,_or_meat_' : 'cut vegetables, herbs or meat',\n",
    "'browse_through_clothing_items_on_rack___shelf___hanger' : 'browse through clothing items',\n",
    "'clean___wipe_other_surface_or_object' : 'clean surface',\n",
    "'dig_or_till_the_soil_with_a_hoe_or_other_tool' : 'till soil with a hoe',\n",
    "'read_a_book___magazine___shopping_list_etc' : 'read a book',\n",
    "'throw_away_trash___put_trash_in_trash_can' : 'throw away trash',\n",
    "'wash_dishes___utensils___bakeware_etc' : 'wash utensils'}\n",
    "\n",
    "print(len(CLASSES_LIST))"
   ]
  },
  {
   "cell_type": "code",
   "execution_count": 5,
   "metadata": {},
   "outputs": [],
   "source": [
    "def plot_metric(model_training_history, metric_name_1, metric_name_2, plot_name,y_label='accuracy'):\n",
    "    '''\n",
    "    This function will plot the metrics passed to it in a graph.\n",
    "    Args:\n",
    "        model_training_history: A history object containing a record of training and validation \n",
    "                                loss values and metrics values at successive epochs\n",
    "        metric_name_1:          The name of the first metric that needs to be plotted in the graph.\n",
    "        metric_name_2:          The name of the second metric that needs to be plotted in the graph.\n",
    "        plot_name:              The title of the graph.\n",
    "    '''\n",
    "    # Get metric values using metric names as identifiers.\n",
    "    metric_value_1 = model_training_history.history[metric_name_1]\n",
    "    metric_value_2 = model_training_history.history[metric_name_2]\n",
    "\n",
    "    # Construct a range object which will be used as x-axis (horizontal plane) of the graph.\n",
    "    epochs = range(len(metric_value_1))\n",
    "\n",
    "    # Plot the Graph.\n",
    "    plt.plot(epochs, metric_value_1, 'blue', label = metric_name_1)\n",
    "    plt.plot(epochs, metric_value_2, 'red', label = metric_name_2)\n",
    "\n",
    "    # Add title to the plot.\n",
    "    plt.title(str(plot_name))\n",
    "    \n",
    "    plt.xlabel('Epochs')\n",
    "    plt.ylabel(y_label)\n",
    "\n",
    "    # Add legend to the plot.\n",
    "    plt.legend()\n",
    "\n",
    "\n",
    "def get_nparray_and_labels_in_partition(partition_path):\n",
    "    nparrayfile_paths = []\n",
    "    labels = {}\n",
    "    for class_name in os.listdir(partition_path):\n",
    "        if class_name not in CLASSES_LIST:\n",
    "            print(f'{class_name} not found in class list!')\n",
    "            continue\n",
    "        for video_file_name in os.listdir(os.path.join(partition_path, class_name)):\n",
    "            if not video_file_name.endswith('.npy'): continue\n",
    "            nparrayfile_path = os.path.join(partition_path, class_name, video_file_name)\n",
    "            nparrayfile_paths.append(nparrayfile_path)\n",
    "            labels[nparrayfile_path] = CLASSES_LIST.index(class_name)\n",
    "    return nparrayfile_paths, labels"
   ]
  },
  {
   "cell_type": "code",
   "execution_count": 6,
   "metadata": {},
   "outputs": [],
   "source": [
    "nparray_partition = {}\n",
    "nparray_labels = {}\n",
    "nparray_partition['train'], nparray_labels['train'] = get_nparray_and_labels_in_partition(TRAINING_PATH)\n",
    "nparray_partition['test'], nparray_labels['test'] = get_nparray_and_labels_in_partition(TESTING_PATH)\n",
    "nparray_partition['validation'], nparray_labels['validation'] = get_nparray_and_labels_in_partition(VALIDATION_PATH)\n",
    "\n",
    "\n",
    "train_data_generator_params = {\n",
    "\t'batch_size' : TRAINING_BATCH_SIZE,\n",
    "\t'sequence_length' : SEQUENCE_LENGTH,\n",
    "\t'n_classes' : len(CLASSES_LIST),\n",
    "\t'min_duration' : MIN_DURATION,\n",
    "\t'shuffle' : True\n",
    "}\n",
    "\n",
    "validation_data_generator_params = {\n",
    "\t'batch_size' : VALIDATION_BATCH_SIZE,\n",
    "\t'sequence_length' : SEQUENCE_LENGTH,\n",
    "\t'n_classes' : len(CLASSES_LIST),\n",
    "\t'min_duration' : MIN_DURATION,\n",
    "\t'shuffle' : True\n",
    "}\n",
    "\n",
    "\n",
    "training_generator = DataGenerator(nparray_partition['train'], nparray_labels['train'], **train_data_generator_params)\n",
    "validation_generator = DataGenerator(nparray_partition['validation'], nparray_labels['validation'], **validation_data_generator_params)"
   ]
  },
  {
   "cell_type": "markdown",
   "metadata": {},
   "source": [
    "## 2. Create model - pre-trained CNN (VGG16) + LSTM"
   ]
  },
  {
   "cell_type": "code",
   "execution_count": 8,
   "metadata": {},
   "outputs": [],
   "source": [
    "def create_CNN_LSTM_model():\n",
    "    frames, channels, rows, columns = SEQUENCE_LENGTH,DIMENSION_C,DIMENSION_Y,DIMENSION_X\n",
    "    video = Input(shape=(frames,rows,columns,channels))\n",
    "    vgg16_model = VGG16(weights='imagenet',include_top= False,input_shape=(rows,columns,channels))\n",
    "    vgg16_model.trainable = False\n",
    "    for layer in vgg16_model.layers:\n",
    "            layer.trainable = False\n",
    "    cnn_out = GlobalAveragePooling2D()(vgg16_model.output)\n",
    "    cnn = Model(vgg16_model.input,  cnn_out)\n",
    "    encoded_frames = TimeDistributed(cnn)(video)\n",
    "    encoded_sequence = LSTM(32)(encoded_frames)\n",
    "    dropout_layer = Dropout(0.25)(encoded_sequence)\n",
    "    hidden_layer = Dense(1024, activation=\"relu\")(dropout_layer)\n",
    "    outputs = Dense(len(CLASSES_LIST), activation=\"softmax\")(hidden_layer)\n",
    "    model = Model(video, outputs)\n",
    "    return model"
   ]
  },
  {
   "cell_type": "code",
   "execution_count": 9,
   "metadata": {},
   "outputs": [
    {
     "name": "stdout",
     "output_type": "stream",
     "text": [
      "Model Created Successfully!\n",
      "Model: \"model_1\"\n",
      "_________________________________________________________________\n",
      " Layer (type)                Output Shape              Param #   \n",
      "=================================================================\n",
      " input_1 (InputLayer)        [(None, 30, 224, 224, 3)  0         \n",
      "                             ]                                   \n",
      "                                                                 \n",
      " time_distributed (TimeDistr  (None, 30, 512)          14714688  \n",
      " ibuted)                                                         \n",
      "                                                                 \n",
      " lstm (LSTM)                 (None, 32)                69760     \n",
      "                                                                 \n",
      " dropout (Dropout)           (None, 32)                0         \n",
      "                                                                 \n",
      " dense (Dense)               (None, 1024)              33792     \n",
      "                                                                 \n",
      " dense_1 (Dense)             (None, 7)                 7175      \n",
      "                                                                 \n",
      "=================================================================\n",
      "Total params: 14,825,415\n",
      "Trainable params: 110,727\n",
      "Non-trainable params: 14,714,688\n",
      "_________________________________________________________________\n",
      "None\n",
      "You must install pydot (`pip install pydot`) and install graphviz (see instructions at https://graphviz.gitlab.io/download/) for plot_model/model_to_dot to work.\n"
     ]
    }
   ],
   "source": [
    "CNN_LSTM_model = create_CNN_LSTM_model()\n",
    "# Display the success message. \n",
    "print(\"Model Created Successfully!\")\n",
    "print(CNN_LSTM_model.summary())\n",
    "plot_model(CNN_LSTM_model, to_file = 'vgg16_lstm_model_structure.png', show_shapes = True, show_layer_names = True)"
   ]
  },
  {
   "cell_type": "code",
   "execution_count": null,
   "metadata": {},
   "outputs": [],
   "source": [
    "%%time\n",
    "# Create an Instance of Early Stopping Callback.\n",
    "early_stopping_callback = EarlyStopping(monitor = 'val_loss', patience = 15, mode = 'min', restore_best_weights = True)\n",
    "\n",
    "optimizer = 'sgd'\n",
    "# Compile the model and specify loss function, optimizer and metrics to the model.\n",
    "CNN_LSTM_model.compile(loss = 'categorical_crossentropy', optimizer = optimizer, metrics = [\"accuracy\"])\n",
    "\n",
    "# Start training the model.\n",
    "CNN_LSTM_model_training_history = CNN_LSTM_model.fit(x = training_generator, \n",
    "    validation_data = validation_generator,\n",
    "    use_multiprocessing=True,\n",
    "    workers=4, \n",
    "    epochs = 60,\n",
    "    callbacks = [early_stopping_callback])"
   ]
  },
  {
   "cell_type": "code",
   "execution_count": null,
   "metadata": {},
   "outputs": [],
   "source": [
    "print(f\"acc: {CNN_LSTM_model_training_history.history['accuracy'][-1]*100:.1f}\")\n",
    "print(f\"val_acc: {CNN_LSTM_model_training_history.history['val_accuracy'][-1]*100:.1f}\")"
   ]
  },
  {
   "cell_type": "code",
   "execution_count": null,
   "metadata": {},
   "outputs": [],
   "source": [
    "%%time\n",
    "# Get the loss and accuracy from model_evaluation_history.\n",
    "model_evaluation_loss = CNN_LSTM_model_training_history.history['loss'][-1]\n",
    "model_evaluation_accuracy = CNN_LSTM_model_training_history.history['val_accuracy'][-1]\n",
    "\n",
    "# Define the string date format.\n",
    "# Get the current Date and Time in a DateTime Object.\n",
    "# Convert the DateTime object to string according to the style mentioned in date_time_format string.\n",
    "date_time_format = '%Y_%m_%d__%H_%M_%S'\n",
    "current_date_time_dt = dt.datetime.now()\n",
    "current_date_time_string = dt.datetime.strftime(current_date_time_dt, date_time_format)\n",
    "    \n",
    "# Define a useful name for our model to make it easy for us while navigating through multiple saved models.\n",
    "model_file_name = f'preprocVGG_LSTM_model_{optimizer}_Loss_{model_evaluation_loss*100:.1f}_Accuracy_{model_evaluation_accuracy*100:.1f}.h5'\n",
    "\n",
    "# Save the Model.\n",
    "CNN_LSTM_model.save(model_file_name)"
   ]
  },
  {
   "cell_type": "code",
   "execution_count": null,
   "metadata": {},
   "outputs": [],
   "source": [
    "plot_metric(CNN_LSTM_model_training_history, 'loss', 'val_loss', 'Total Loss vs Total Validation Loss', 'Loss')"
   ]
  },
  {
   "cell_type": "code",
   "execution_count": null,
   "metadata": {},
   "outputs": [],
   "source": [
    "plot_metric(CNN_LSTM_model_training_history, 'accuracy', 'val_accuracy', 'Total Accuracy vs Total Validation Accuracy') "
   ]
  },
  {
   "cell_type": "code",
   "execution_count": null,
   "metadata": {},
   "outputs": [],
   "source": [
    "%%time\n",
    "\n",
    "from keras.applications.vgg16 import preprocess_input\n",
    "\n",
    "correct_preds = 0\n",
    "total = len(nparray_labels[\"test\"].keys())\n",
    "for file_name in nparray_labels[\"test\"].keys():\n",
    "\tframe = preprocess_input(np.load(file_name) * 255)\n",
    "\tprediction = np.argmax(CNN_LSTM_model.predict(np.array([frame])))\n",
    "\tactual = nparray_labels[\"test\"][file_name]\n",
    "\tif prediction == actual:\n",
    "\t\tcorrect_preds += 1\n",
    "\t# print(f'Prediction = {CLASSES_LIST[np.argmax(pred)]}')\n",
    "\t# print(f'Actual = {CLASSES_LIST[nparray_labels[\"test\"]]}')\n",
    "\n",
    "test_accuracy = correct_preds/total\n",
    "print(f'Test Accuracy = {test_accuracy}')"
   ]
  },
  {
   "cell_type": "markdown",
   "metadata": {},
   "source": [
    "## 3. Create model - (untrained)CNN + LSTM"
   ]
  },
  {
   "cell_type": "code",
   "execution_count": null,
   "metadata": {},
   "outputs": [],
   "source": [
    "def create_LRCN_model():\n",
    "    '''\n",
    "    This function will construct the required LRCN model.\n",
    "    Returns:\n",
    "        model: It is the required constructed LRCN model.\n",
    "    '''\n",
    "\n",
    "    # We will use a Sequential model for model construction.\n",
    "    model = Sequential()\n",
    "    \n",
    "    # Define the Model Architecture.\n",
    "    ########################################################################################################################\n",
    "    \n",
    "    model.add(TimeDistributed(Conv2D(16, (3, 3), padding='same',activation = 'relu'),\n",
    "                              input_shape = (SEQUENCE_LENGTH, DIMENSION_X, DIMENSION_Y, DIMENSION_C)))\n",
    "    model.add(TimeDistributed(MaxPooling2D((4, 4)))) \n",
    "    model.add(TimeDistributed(Dropout(0.25)))\n",
    "    \n",
    "    model.add(TimeDistributed(Conv2D(32, (3, 3), padding='same',activation = 'relu')))\n",
    "    model.add(TimeDistributed(MaxPooling2D((4, 4))))\n",
    "    model.add(TimeDistributed(Dropout(0.25)))\n",
    "    \n",
    "    model.add(TimeDistributed(Conv2D(64, (3, 3), padding='same',activation = 'relu')))\n",
    "    model.add(TimeDistributed(MaxPooling2D((2, 2))))\n",
    "    model.add(TimeDistributed(Dropout(0.25)))\n",
    "    \n",
    "    model.add(TimeDistributed(Conv2D(64, (3, 3), padding='same',activation = 'relu')))\n",
    "    model.add(TimeDistributed(MaxPooling2D((2, 2))))\n",
    "    #model.add(TimeDistributed(Dropout(0.25)))\n",
    "                                      \n",
    "    model.add(TimeDistributed(Flatten()))\n",
    "                                      \n",
    "    model.add(LSTM(32))\n",
    "                                      \n",
    "    model.add(Dense(len(CLASSES_LIST), activation = 'softmax'))\n",
    "\n",
    "    ########################################################################################################################\n",
    "    # Display the models summary.\n",
    "    model.summary()\n",
    "    \n",
    "    # Return the constructed LRCN model.\n",
    "    return model\n",
    "    "
   ]
  },
  {
   "cell_type": "code",
   "execution_count": null,
   "metadata": {},
   "outputs": [],
   "source": [
    "%%time\n",
    "LRCN_model = create_LRCN_model()\n",
    "# Display the success message. \n",
    "print(\"Model Created Successfully!\")\n",
    "plot_model(LRCN_model, to_file = 'lrnc_cnn_lstm_model_structure_plot.png', show_shapes = True, show_layer_names = True)\n",
    "\n",
    "\n",
    "# Create an Instance of Early Stopping Callback.\n",
    "early_stopping_callback = EarlyStopping(monitor = 'val_loss', patience = 15, mode = 'min', restore_best_weights = True)\n",
    "\n",
    "# Compile the model and specify loss function, optimizer and metrics to the model.\n",
    "LRCN_model.compile(loss = 'categorical_crossentropy', optimizer = 'Adam', metrics = [\"accuracy\"])\n",
    "\n",
    "# Start training the model.\n",
    "LRCN_model_training_history = LRCN_model.fit(x = training_generator, \n",
    "    validation_data = validation_generator,\n",
    "    use_multiprocessing=True,\n",
    "    workers=NR_WORKERS, \n",
    "    epochs = NR_EPOCHS,\n",
    "    callbacks = [early_stopping_callback])"
   ]
  },
  {
   "cell_type": "code",
   "execution_count": null,
   "metadata": {},
   "outputs": [],
   "source": [
    "%%time\n",
    "model_evaluation_history = LRCN_model.evaluate(x = validation_generator, use_multiprocessing=True, workers=NR_WORKERS)"
   ]
  },
  {
   "cell_type": "code",
   "execution_count": null,
   "metadata": {},
   "outputs": [],
   "source": [
    "plot_metric(LRCN_model_training_history, 'loss', 'val_loss', 'Total Loss vs Total Validation Loss','Los')"
   ]
  },
  {
   "cell_type": "code",
   "execution_count": null,
   "metadata": {},
   "outputs": [],
   "source": [
    "plot_metric(LRCN_model_training_history, 'accuracy', 'val_accuracy', 'Total Accuracy vs Total Validation Accuracy') "
   ]
  },
  {
   "cell_type": "code",
   "execution_count": null,
   "metadata": {},
   "outputs": [],
   "source": [
    "%%time\n",
    "# Get the loss and accuracy from model_evaluation_history.\n",
    "model_evaluation_loss, model_evaluation_accuracy = model_evaluation_history\n",
    "\n",
    "# Define the string date format.\n",
    "# Get the current Date and Time in a DateTime Object.\n",
    "# Convert the DateTime object to string according to the style mentioned in date_time_format string.\n",
    "date_time_format = '%Y_%m_%d__%H_%M_%S'\n",
    "current_date_time_dt = dt.datetime.now()\n",
    "current_date_time_string = dt.datetime.strftime(current_date_time_dt, date_time_format)\n",
    "    \n",
    "# Define a useful name for our model to make it easy for us while navigating through multiple saved models.\n",
    "model_file_name = f'LRCN_LSTM_model___Date_Time_{current_date_time_string}___Loss_{model_evaluation_loss}___Accuracy_{model_evaluation_accuracy}.h5'\n",
    "\n",
    "# Save the Model.\n",
    "LRCN_model.save(model_file_name)"
   ]
  },
  {
   "cell_type": "markdown",
   "metadata": {},
   "source": [
    "## 4. Create model - pre-trained CNN (ResNet50) + LSTM (EXTRA)"
   ]
  },
  {
   "cell_type": "code",
   "execution_count": null,
   "metadata": {},
   "outputs": [],
   "source": [
    "def ResNet_pretrained_model(seq_len=20,frames=30,channels=3,img_height=224,img_width=224,n_output=7):\n",
    "    frames, channels, rows, columns = frames,channels,img_height,img_width\n",
    "    video = Input(shape=(frames,rows,columns,channels))\n",
    "    \n",
    "    cnn_base = ResNet50(input_shape=(rows,columns, channels),weights=\"imagenet\", include_top=False)\n",
    "    \n",
    "    cnn_base.trainable = False\n",
    "\n",
    "    cnn_out = GlobalAveragePooling2D()(cnn_base.output)\n",
    "    print(cnn_out)\n",
    "    \n",
    "    cnn = Model(cnn_base.input,  cnn_out)\n",
    "    \n",
    "    encoded_frames = TimeDistributed(cnn)(video)\n",
    "    encoded_sequence = LSTM(32)(encoded_frames)\n",
    "    \n",
    "    hidden_layer = Dense(1024, activation=\"relu\")(encoded_sequence)\n",
    "    \n",
    "    outputs = Dense(n_output, activation=\"softmax\")(hidden_layer)\n",
    "\n",
    "    model = Model(video, outputs)\n",
    "    return model"
   ]
  },
  {
   "cell_type": "code",
   "execution_count": null,
   "metadata": {},
   "outputs": [],
   "source": [
    "resnet_model = ResNet_pretrained_model()\n",
    "# resnet_model.summary()"
   ]
  },
  {
   "cell_type": "code",
   "execution_count": null,
   "metadata": {},
   "outputs": [],
   "source": [
    "# Create an Instance of Early Stopping Callback.\n",
    "early_stopping_callback = EarlyStopping(monitor = 'val_loss', patience = 15, mode = 'min', restore_best_weights = True)\n",
    "\n",
    "# Compile the model and specify loss function, optimizer and metrics to the model.\n",
    "resnet_model.compile(loss = 'categorical_crossentropy', optimizer = 'Adam', metrics = [\"accuracy\"])\n",
    "\n",
    "# Start training the model.\n",
    "resnet_model = resnet_model.fit(x = training_generator, \n",
    "    validation_data = validation_generator,\n",
    "    use_multiprocessing=True,\n",
    "    workers=NR_WORKERS, \n",
    "    epochs = NR_EPOCHS,\n",
    "    callbacks = [early_stopping_callback])"
   ]
  }
 ],
 "metadata": {
  "kernelspec": {
   "display_name": "Python 3.8.13 ('ACVPR')",
   "language": "python",
   "name": "python3"
  },
  "language_info": {
   "codemirror_mode": {
    "name": "ipython",
    "version": 3
   },
   "file_extension": ".py",
   "mimetype": "text/x-python",
   "name": "python",
   "nbconvert_exporter": "python",
   "pygments_lexer": "ipython3",
   "version": "3.8.13"
  },
  "vscode": {
   "interpreter": {
    "hash": "7b16c9da95f04883170e058a5ab5debfb744b1406582038da61280139aa5eca4"
   }
  }
 },
 "nbformat": 4,
 "nbformat_minor": 4
}
