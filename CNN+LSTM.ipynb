{
 "cells": [
  {
   "cell_type": "code",
   "execution_count": 81,
   "metadata": {},
   "outputs": [],
   "source": [
    "\"\"\"\n",
    "Scammed link\n",
    "https://stackoverflow.com/questions/61136393/keras-pretraining-of-a-cnn-model-and-after-use-it-for-a-cnn-lstm-model\n",
    "\n",
    "\"\"\"\n",
    "\n",
    "\n",
    "import tensorflow\n",
    "from tensorflow.keras.layers import TimeDistributed,LSTM,Dense,Flatten,Dropout,GlobalAveragePooling2D\n",
    "from tensorflow.keras.applications.resnet50 import ResNet50 \n",
    "from tensorflow.keras import Input\n",
    "from tensorflow.keras import Model \n",
    "\n",
    "\n"
   ]
  },
  {
   "cell_type": "code",
   "execution_count": 76,
   "metadata": {},
   "outputs": [],
   "source": [
    "\n",
    "def pretrained_model(seq_len=30,frames=30,channels=3,img_height=224,img_width=224,n_output=10):\n",
    "    \n",
    "    frames, channels, rows, columns = frames,channels,img_height,img_width\n",
    "\n",
    "    video = Input(shape=(frames,\n",
    "                         rows,\n",
    "                         columns,\n",
    "                         channels))\n",
    "    \n",
    "    cnn_base = ResNet50(input_shape=(rows,\n",
    "                                  columns,\n",
    "                                  channels),\n",
    "                     weights=\"imagenet\",\n",
    "                     include_top=False)\n",
    "    \n",
    "    cnn_base.trainable = False\n",
    "\n",
    "    cnn_out = GlobalAveragePooling2D()(cnn_base.output)\n",
    "    print(cnn_out)\n",
    "    \n",
    "    cnn = Model(cnn_base.input,  cnn_out)\n",
    "    \n",
    "    encoded_frames = TimeDistributed(cnn)(video)\n",
    "    \n",
    "    \n",
    "    encoded_sequence = LSTM(256)(encoded_frames)\n",
    "    \n",
    "    hidden_layer = Dense(1024, activation=\"relu\")(encoded_sequence)\n",
    "    \n",
    "    outputs = Dense(n_output, activation=\"softmax\")(hidden_layer)\n",
    "\n",
    "    model = Model(video, outputs)\n",
    "\n",
    "    \n",
    "    return model"
   ]
  },
  {
   "cell_type": "code",
   "execution_count": 77,
   "metadata": {},
   "outputs": [
    {
     "name": "stdout",
     "output_type": "stream",
     "text": [
      "KerasTensor(type_spec=TensorSpec(shape=(None, 2048), dtype=tf.float32, name=None), name='global_average_pooling2d_11/Mean:0', description=\"created by layer 'global_average_pooling2d_11'\")\n"
     ]
    }
   ],
   "source": [
    "model = pretrained_model()"
   ]
  },
  {
   "cell_type": "code",
   "execution_count": 78,
   "metadata": {},
   "outputs": [
    {
     "name": "stdout",
     "output_type": "stream",
     "text": [
      "Model: \"model_24\"\n",
      "_________________________________________________________________\n",
      " Layer (type)                Output Shape              Param #   \n",
      "=================================================================\n",
      " input_53 (InputLayer)       [(None, 30, 224, 224, 3)  0         \n",
      "                             ]                                   \n",
      "                                                                 \n",
      " time_distributed_31 (TimeDi  (None, 30, 2048)         23587712  \n",
      " stributed)                                                      \n",
      "                                                                 \n",
      " lstm_11 (LSTM)              (None, 256)               2360320   \n",
      "                                                                 \n",
      " dense_18 (Dense)            (None, 1024)              263168    \n",
      "                                                                 \n",
      " dense_19 (Dense)            (None, 10)                10250     \n",
      "                                                                 \n",
      "=================================================================\n",
      "Total params: 26,221,450\n",
      "Trainable params: 2,633,738\n",
      "Non-trainable params: 23,587,712\n",
      "_________________________________________________________________\n"
     ]
    }
   ],
   "source": [
    "model.summary()"
   ]
  },
  {
   "cell_type": "code",
   "execution_count": null,
   "metadata": {},
   "outputs": [],
   "source": []
  }
 ],
 "metadata": {
  "kernelspec": {
   "display_name": "Python 3",
   "language": "python",
   "name": "python3"
  },
  "language_info": {
   "codemirror_mode": {
    "name": "ipython",
    "version": 3
   },
   "file_extension": ".py",
   "mimetype": "text/x-python",
   "name": "python",
   "nbconvert_exporter": "python",
   "pygments_lexer": "ipython3",
   "version": "3.8.3"
  }
 },
 "nbformat": 4,
 "nbformat_minor": 4
}
