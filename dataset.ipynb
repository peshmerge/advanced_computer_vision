{
 "cells": [
  {
   "cell_type": "markdown",
   "id": "00e600b1-305c-4f35-8c49-ebb6869bc7d4",
   "metadata": {},
   "source": [
    "# Pre-Requisite Installations"
   ]
  },
  {
   "cell_type": "markdown",
   "id": "b2b4499f-8dbc-44e8-a9d8-c6824047036e",
   "metadata": {},
   "source": [
    "Please do the following steps initially:\n",
    "- Install the AWS CLI from: https://aws.amazon.com/cli/\n",
    "- Open a command line and type `aws configure`\n",
    "- Leave the default region blank, and enter your AWS access id and secret key when prompted.\n",
    "\n",
    "**(NOTE: Requires python >= 3.8)**\n",
    "\n",
    "Dependencies (run the command in the next cell if you need these dependencies installed):\n",
    "- boto3\n",
    "- moviepy\n",
    "- wget (not needed)\n",
    "- intervaltree"
   ]
  },
  {
   "cell_type": "code",
   "execution_count": 69,
   "id": "4aed3b40-765c-4127-9578-0f26d9c4da94",
   "metadata": {},
   "outputs": [],
   "source": [
    "# # Run these commands to install dependencies\n",
    "# %pip install boto3\n",
    "# %pip install moviepy\n",
    "# %pip install wget (not needed)\n",
    "# %pip install intervaltree"
   ]
  },
  {
   "cell_type": "markdown",
   "id": "78e34712-40bb-4ef6-b101-ad358a668cb9",
   "metadata": {},
   "source": [
    "# Import everything that is needed"
   ]
  },
  {
   "cell_type": "code",
   "execution_count": 70,
   "id": "4c661bf5-2766-436b-aaef-505495a7e0e3",
   "metadata": {},
   "outputs": [],
   "source": [
    "# General imports\n",
    "import os\n",
    "import json\n",
    "import shutil\n",
    "import random\n",
    "import regex as re\n",
    "import warnings\n",
    "import uuid\n",
    "\n",
    "# Video clipping\n",
    "import datetime\n",
    "from moviepy.editor import *\n",
    "import subprocess\n",
    "import intervaltree\n",
    "\n",
    "# Setup of ego4d downloads\n",
    "from zipfile import ZipFile\n",
    "import requests\n",
    "from io import BytesIO\n",
    "\n",
    "# Custom classes\n",
    "from utils import cd"
   ]
  },
  {
   "cell_type": "code",
   "execution_count": 71,
   "id": "e89568b0",
   "metadata": {},
   "outputs": [],
   "source": [
    "# Setup and Data paths that are defined here\n",
    "PROFILE_NAME = '' # NOTE: If you have a profile name for AWS cli, enter here\n",
    "DATA_DIR = 'data'\n",
    "EGO4D_SETUP_DIR = 'ego4d_setup'\n",
    "VIDEO_PATH = os.path.join(DATA_DIR, 'videos')\n",
    "ANNOTATION_PATH = os.path.join(DATA_DIR, 'annotations')\n",
    "TRAINING_PATH = os.path.join(VIDEO_PATH, 'training')\n",
    "TESTING_PATH = os.path.join(VIDEO_PATH, 'testing')\n",
    "VALIDATION_PATH = os.path.join(VIDEO_PATH, 'validation')"
   ]
  },
  {
   "cell_type": "markdown",
   "id": "1c3d13c3-6950-4008-899c-024325eb2200",
   "metadata": {},
   "source": [
    "# Download and Prepare Dataset"
   ]
  },
  {
   "cell_type": "code",
   "execution_count": 72,
   "id": "0e514531-f2fe-437e-ae2a-7cdd08481314",
   "metadata": {},
   "outputs": [],
   "source": [
    "# Prepare directories and setup\n",
    "def perform_setup(delete_annotations=False, delete_clips=False, delete_setup=False, delete_data=False):\n",
    "    # If you want to delete already existing folders and contents\n",
    "    if delete_setup and os.path.exists(EGO4D_SETUP_DIR): shutil.rmtree(EGO4D_SETUP_DIR)\n",
    "    if delete_clips and os.path.exists(VIDEO_PATH): shutil.rmtree(VIDEO_PATH)\n",
    "    if delete_annotations and os.path.exists(ANNOTATION_PATH): shutil.rmtree(ANNOTATION_PATH)\n",
    "    if delete_data and os.path.exists(DATA_DIR): shutil.rmtree(DATA_DIR)\n",
    "\n",
    "    # If any dir doesn't exist, make it\n",
    "    if not os.path.exists(EGO4D_SETUP_DIR): os.makedirs(EGO4D_SETUP_DIR)\n",
    "    if not os.path.exists(ANNOTATION_PATH): os.makedirs(ANNOTATION_PATH)\n",
    "    if not os.path.exists(VIDEO_PATH): os.makedirs(VIDEO_PATH)\n",
    "    if not os.path.exists(TRAINING_PATH): os.makedirs(TRAINING_PATH)\n",
    "    if not os.path.exists(TESTING_PATH): os.makedirs(TESTING_PATH)\n",
    "    if not os.path.exists(VALIDATION_PATH): os.makedirs(VALIDATION_PATH)\n",
    "\n",
    "# Uncomment to setup the dataset\n",
    "# delete_annotations: resets data/annotations \n",
    "# delete_clips: resets data/videos\n",
    "# delete_setup: resets ego4d_setup directory (should be deleted normally anyway)\n",
    "# delete_data: deletes all of data directory and its subdirectories\n",
    "perform_setup()"
   ]
  },
  {
   "cell_type": "markdown",
   "id": "3e13a01b",
   "metadata": {},
   "source": [
    "> Retrieve ego4d data retrieval tool"
   ]
  },
  {
   "cell_type": "code",
   "execution_count": 73,
   "id": "5788c8cd-8157-4eb4-88bc-70a8dda25404",
   "metadata": {
    "tags": []
   },
   "outputs": [
    {
     "name": "stdout",
     "output_type": "stream",
     "text": [
      "Downloading the setup zip file..\n",
      "Finished retrieving the setup files.\n"
     ]
    }
   ],
   "source": [
    "# Retrieve the zip file for setup\n",
    "print('Downloading the setup zip file..')\n",
    "\n",
    "#Defining the zip file URL\n",
    "url = 'https://github.com/facebookresearch/Ego4d/archive/refs/heads/main.zip'\n",
    "# Split URL to get the file name\n",
    "filename = url.split('/')[-1]\n",
    "\n",
    "# Downloading the file by sending the request to the URL\n",
    "req = requests.get(url)\n",
    "\n",
    "# extracting the zip file contents\n",
    "zipfile= ZipFile(BytesIO(req.content))\n",
    "zipfile.extractall(EGO4D_SETUP_DIR)\n",
    "print('Finished retrieving the setup files.')"
   ]
  },
  {
   "cell_type": "code",
   "execution_count": 74,
   "id": "7c64aaed",
   "metadata": {},
   "outputs": [
    {
     "name": "stdout",
     "output_type": "stream",
     "text": [
      "Annotations already present!\n"
     ]
    }
   ],
   "source": [
    "# Setting up the annotations and retrieving it\n",
    "def setup_annotations(annotation_regex):\n",
    "    # Check if annotations are already present\n",
    "    if os.path.exists(ANNOTATION_PATH):\n",
    "        files = next(os.walk(ANNOTATION_PATH), (None, None, []))[2]\n",
    "        rgx = re.compile(annotation_regex)\n",
    "        newlist = list(filter(rgx.match, files))\n",
    "\n",
    "        # If not present, then download the annotations and save them\n",
    "        if not newlist:\n",
    "            print('Downloading annotations..')\n",
    "\n",
    "            # Command to download ALL annotations\n",
    "            if PROFILE_NAME:\n",
    "                command = ['python', '-m', 'ego4d.cli.cli', '--output_directory=ego4d_data', '--datasets', 'annotations', '--aws_PROFILE_NAME', PROFILE_NAME, '--yes']\n",
    "            else:\n",
    "                command = ['python', '-m', 'ego4d.cli.cli', '--output_directory=ego4d_data', '--datasets', 'annotations', '--yes']\n",
    "            with cd(os.path.join(EGO4D_SETUP_DIR, \"Ego4d-main\")):\n",
    "                subprocess.run(command, check=True)\n",
    "            # Copy and save only needed annotations in the data directory\n",
    "            annotation_dir = os.path.join(EGO4D_SETUP_DIR, \"Ego4d-main\", \"ego4d_data\", \"v1\", \"annotations\")\n",
    "            for file in os.listdir(annotation_dir):\n",
    "                if \"moments\" in file: # TODO: Should be changed later to not have string\n",
    "                    shutil.copy(os.path.join(annotation_dir, file), os.path.join(ANNOTATION_PATH))\n",
    "            print('Finished downloading and setting up annotations.')\n",
    "        else:\n",
    "            print('Annotations already present!')\n",
    "        \n",
    "# Setting up the annotations\n",
    "# annnotation_regex: regular expression of the files you want to copy from ALL annotations\n",
    "setup_annotations(\"moments*\")"
   ]
  },
  {
   "cell_type": "markdown",
   "id": "bee899e5-8327-4cd1-b6a7-7d068d41ebf4",
   "metadata": {},
   "source": [
    "# Pre-Process"
   ]
  },
  {
   "cell_type": "markdown",
   "id": "7dc4fc5a",
   "metadata": {},
   "source": [
    "### Process moments_train.json\n",
    "> Process moments_train.json and filter videos with given classes."
   ]
  },
  {
   "cell_type": "code",
   "execution_count": 75,
   "id": "c9a80857",
   "metadata": {},
   "outputs": [
    {
     "name": "stdout",
     "output_type": "stream",
     "text": [
      "3\n"
     ]
    }
   ],
   "source": [
    "# The classes to be used in this project\n",
    "classes = [\n",
    "    \"browse_through_clothing_items_on_rack_/_shelf_/_hanger\",\n",
    "    \"read_a_book_/_magazine_/_shopping_list_etc.\", \n",
    "    \"\\\"cut_/_chop_/_slice_a_vegetable,_fruit,_or_meat\\\"\",\n",
    "    \"throw_away_trash_/_put_trash_in_trash_can\",\n",
    "    \"clean_/_wipe_other_surface_or_object\",\n",
    "    \"dig_or_till_the_soil_with_a_hoe_or_other_tool\",\n",
    "    \"wash_dishes_/_utensils_/_bakeware_etc.\"\n",
    "    ]\n",
    "# Training, testing, and validation annotation files\n",
    "# Filtered clip uids dictionary containing only classes listed above\n",
    "filtered_dict = {\n",
    "    'training': {\n",
    "        'file_name': 'moments_train.json',\n",
    "        'count': 200,\n",
    "        'data': {}\n",
    "    },\n",
    "    'testing': {\n",
    "        'file_name': 'moments_val.json',\n",
    "        'count': 20,\n",
    "        'data': {}\n",
    "    },\n",
    "    'validation': {\n",
    "        'file_name': 'moments_val.json',\n",
    "        'count': 20,\n",
    "        'data': {}\n",
    "    }\n",
    "}\n",
    "\n",
    "# Setup pre-filtered dictionary\n",
    "for data_type in filtered_dict:\n",
    "    with open(os.path.join(ANNOTATION_PATH, filtered_dict[data_type]['file_name']), 'r') as json_file:\n",
    "        # Load the annotation file\n",
    "        loaded_json = json.load(json_file)\n",
    "\n",
    "        # For each video and for each clips within the video\n",
    "        # retrieve clip_uid, video_uids, label, start_time, and end_time\n",
    "        for video in loaded_json['videos']:\n",
    "            for clip in video['clips']:\n",
    "                # Setup each clip information\n",
    "                filtered_dict[data_type]['data'][clip[\"clip_uid\"]] = {\n",
    "                    \"video_uid\": video[\"video_uid\"],\n",
    "                    \"annotations\": {}\n",
    "                }\n",
    "                # For each annotation, retrieve annotator id and annotations\n",
    "                for annotation in clip[\"annotations\"]:\n",
    "                    for label_item in annotation[\"labels\"]:\n",
    "                        label = label_item[\"label\"]\n",
    "                        if label in classes and (label_item[\"end_time\"] - label_item[\"start_time\"] >= 5):\n",
    "                            if label in filtered_dict[data_type]['data'][clip[\"clip_uid\"]][\"annotations\"]:\n",
    "                                filtered_dict[data_type]['data'][clip[\"clip_uid\"]][\"annotations\"][label].append(\n",
    "                                    (label_item[\"start_time\"], label_item[\"end_time\"])\n",
    "                                )\n",
    "                            else:\n",
    "                                filtered_dict[data_type]['data'][clip[\"clip_uid\"]][\"annotations\"][label] = [\n",
    "                                    (label_item[\"start_time\"], label_item[\"end_time\"])\n",
    "                                ]\n",
    "                # Same as before, filter out empty annotations\n",
    "                if not filtered_dict[data_type]['data'][clip[\"clip_uid\"]][\"annotations\"]:\n",
    "                    del filtered_dict[data_type]['data'][clip[\"clip_uid\"]]\n",
    "\n",
    "# Do final processing with the filtered dictionary\n",
    "count = 0\n",
    "full_filtered_dict = {}\n",
    "for data_type, data_info in filtered_dict.items():\n",
    "    full_filtered_dict[data_type] = {\n",
    "        \"file_name\": data_info[\"file_name\"],\n",
    "        \"count\": data_info[\"count\"],\n",
    "        \"data\": {}\n",
    "    }\n",
    "    for clip_uid, clip_info in data_info[\"data\"].items():\n",
    "        full_filtered_dict[data_type][\"data\"][clip_uid] = {\n",
    "            \"video_uid\": clip_info[\"video_uid\"],\n",
    "            \"annotations\": {}\n",
    "        }\n",
    "        for label in clip_info[\"annotations\"]:\n",
    "            tree = intervaltree.IntervalTree.from_tuples(clip_info[\"annotations\"][label])\n",
    "            tree.merge_overlaps(strict=False)\n",
    "            full_filtered_dict[data_type][\"data\"][clip_uid][\"annotations\"][label] = sorted(tree.iter())\n",
    "\n",
    "print(len(full_filtered_dict))\n",
    "with open('test.json', 'w') as jp:\n",
    "    json.dump(full_filtered_dict, jp, indent=4)"
   ]
  },
  {
   "cell_type": "markdown",
   "id": "446d6f92",
   "metadata": {},
   "source": [
    "### Trim videos into clips\n",
    "> Using moviepy, split videos into clips"
   ]
  },
  {
   "cell_type": "code",
   "execution_count": 76,
   "id": "134d7734",
   "metadata": {},
   "outputs": [],
   "source": [
    "# Function to cut/trim the video to desired lengths and save it\n",
    "def cut_video(VIDEO_PATH, times, save_path):\n",
    "    # Load the video once and close using context manager\n",
    "    with VideoFileClip(VIDEO_PATH, target_resolution=(224,224), resize_algorithm=\"fast_bilinear\", audio=False) as vid_clip:\n",
    "        for start_time, end_time, _ in times:\n",
    "            # Segment information and random filename generation\n",
    "            start_time = start_time\n",
    "            end_time = end_time\n",
    "            fileName = f\"{uuid.uuid1()}.mp4\"\n",
    "\n",
    "            # Convert the amount of seconds in time xx:xx:xx.xxxxxx\n",
    "            start_time = str(datetime.timedelta(seconds = start_time))\n",
    "            end_time = str(datetime.timedelta(seconds = end_time))\n",
    "\n",
    "            # Clip the video and save it to the specified path\n",
    "            clip = vid_clip.subclip(start_time, end_time)\n",
    "            if not os.path.exists(save_path): os.makedirs(save_path)\n",
    "            clip.write_videofile(os.path.join(save_path, fileName), threads=8, logger=None, preset=\"ultrafast\")\n",
    "            clip.close()"
   ]
  },
  {
   "cell_type": "code",
   "execution_count": 77,
   "id": "c95fc5c0",
   "metadata": {},
   "outputs": [],
   "source": [
    "# %%capture cap --no-stderr\n",
    "# ^ To save the output to external file because it's waaaaay too large to display in notebook\n",
    "# Function to retrieve a sample of clips for each class\n",
    "all_clips_dict = {\n",
    "    'training': {},\n",
    "    'testing': {},\n",
    "    'validation': {}\n",
    "}\n",
    "\n",
    "def generate_clip_uids(filtered_annotations):\n",
    "    # Seperate clip uids by their class\n",
    "    for clip_type in all_clips_dict:\n",
    "        for clip_uid, clip_info in filtered_annotations[clip_type]['data'].items():\n",
    "            for annotation in clip_info[\"annotations\"]:\n",
    "                if annotation in all_clips_dict[clip_type]:\n",
    "                    all_clips_dict[clip_type][annotation].append(clip_uid)\n",
    "                else:\n",
    "                    all_clips_dict[clip_type][annotation] = [clip_uid]\n",
    "        # Grab random sample of num_clips for each class\n",
    "        for annotation in all_clips_dict[clip_type]:\n",
    "            maximum = min(len(all_clips_dict[clip_type][annotation]), filtered_annotations[clip_type]['count'])\n",
    "            print(f'Generated samples for {annotation} in {clip_type} with total of {maximum}.')\n",
    "            all_clips_dict[clip_type][annotation] = random.sample(all_clips_dict[clip_type][annotation], maximum)\n",
    "\n",
    "# Function to download and setup the clips \n",
    "def setup_clips(filtered_annotations, save_path, overwrite=False):\n",
    "    # Check if the clips already exist if we are not overwriting\n",
    "    if not overwrite:\n",
    "        dirs = next(os.walk(VIDEO_PATH), (None, None, []))[1]\n",
    "        for dir in dirs:\n",
    "            subdirs = next(os.walk(VIDEO_PATH, dir), (None, None, []))[2]\n",
    "            for subdir in subdirs:\n",
    "                files = next(os.walk(os.path.join(VIDEO_PATH, dir, subdir)), (None, None, []))[2]\n",
    "                if dir.replace(\";\", \"/\") in all_clips_dict['training'] and files:\n",
    "                    warnings.warn(\"Clips may already exist. If you want to redo the process, set the `overwrite` argument to true while calling the function.\")\n",
    "                    return\n",
    "\n",
    "    # Get all the randomly generated clip samples and go through them\n",
    "    generate_clip_uids(filtered_annotations)\n",
    "\n",
    "    # Go through each type of data (training, testing, validation)\n",
    "    for data_type in filtered_annotations:\n",
    "        for cls, clip_uids in all_clips_dict[data_type].items():\n",
    "            useable_name = cls.replace(\"/\", \";\") # Paths can't have / in their name so, replace it\n",
    "\n",
    "            # Make sure the required path exists without old items\n",
    "            if os.path.exists(os.path.join(VIDEO_PATH, data_type, useable_name)): shutil.rmtree(os.path.join(VIDEO_PATH, data_type, useable_name))\n",
    "            os.makedirs(os.path.join(VIDEO_PATH, data_type, useable_name))\n",
    "\n",
    "            print(f\"Processing clips for class: {cls}\")\n",
    "            for clip_uid in clip_uids:\n",
    "                # Command to retrieve clip by its uid\n",
    "                if PROFILE_NAME:\n",
    "                    command = ['python', '-m', 'ego4d.cli.cli', '--output_directory=temp_clip', '--datasets', 'clips', '--video_uids', clip_uid, '--aws_PROFILE_NAME', PROFILE_NAME, '--yes']\n",
    "                else:\n",
    "                    command = ['python', '-m', 'ego4d.cli.cli', '--output_directory=temp_clip', '--datasets', 'clips', '--video_uids', clip_uid, '--yes']\n",
    "                # Path to the downloaded clip\n",
    "                full_vid_path = os.path.join(EGO4D_SETUP_DIR, \"Ego4d-main\", \"temp_clip\", \"v1\", \"clips\")\n",
    "                \n",
    "                # Use context manager to ensure any change in directory is returned to original\n",
    "                with cd(os.path.join(EGO4D_SETUP_DIR, \"Ego4d-main\")):\n",
    "                    # Download the video\n",
    "                    subprocess.run(command, check=True)\n",
    "                    \n",
    "                # Get the clip information and trim the video\n",
    "                clip_info = filtered_annotations[data_type]['data'][clip_uid]\n",
    "                for label in clip_info['annotations']:\n",
    "                    folder_label = label.replace(\"/\", \";\")\n",
    "                    cut_video(os.path.join(full_vid_path, f\"{clip_uid}.mp4\"), clip_info['annotations'][label], os.path.join(VIDEO_PATH, data_type, folder_label))\n",
    "                \n",
    "                # Clean up after for the specific clip\n",
    "                shutil.rmtree(os.path.join(EGO4D_SETUP_DIR, \"Ego4d-main\", \"temp_clip\", \"v1\"))\n",
    "    \n",
    "    # Clean up the overall setup directory\n",
    "    shutil.rmtree(EGO4D_SETUP_DIR)\n",
    "\n",
    "# Download and setup clips\n",
    "# filtered_dict: previously filtered dictionary of clips\n",
    "# VIDEO_PATH: path to save the clips\n",
    "setup_clips(full_filtered_dict, VIDEO_PATH)"
   ]
  },
  {
   "cell_type": "code",
   "execution_count": null,
   "id": "c5eef6ca",
   "metadata": {},
   "outputs": [],
   "source": []
  }
 ],
 "metadata": {
  "kernelspec": {
   "display_name": "Python 3.8.13 ('acvpr')",
   "language": "python",
   "name": "python3"
  },
  "language_info": {
   "codemirror_mode": {
    "name": "ipython",
    "version": 3
   },
   "file_extension": ".py",
   "mimetype": "text/x-python",
   "name": "python",
   "nbconvert_exporter": "python",
   "pygments_lexer": "ipython3",
   "version": "3.8.13"
  },
  "vscode": {
   "interpreter": {
    "hash": "3abfcb6a5852706a2368fe780626157966aa0a94fc44e414e400fd6502757207"
   }
  }
 },
 "nbformat": 4,
 "nbformat_minor": 5
}
