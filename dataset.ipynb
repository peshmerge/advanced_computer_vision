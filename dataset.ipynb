{
 "cells": [
  {
   "cell_type": "markdown",
   "id": "78e34712-40bb-4ef6-b101-ad358a668cb9",
   "metadata": {},
   "source": [
    "# Import everything that is needed"
   ]
  },
  {
   "cell_type": "code",
   "execution_count": 25,
   "id": "4c661bf5-2766-436b-aaef-505495a7e0e3",
   "metadata": {},
   "outputs": [],
   "source": [
    "import scipy.io\n",
    "import cv2\n",
    "import os\n",
    "from tqdm import tqdm"
   ]
  },
  {
   "cell_type": "markdown",
   "id": "bee899e5-8327-4cd1-b6a7-7d068d41ebf4",
   "metadata": {},
   "source": [
    "# Pre-Process the Videos"
   ]
  },
  {
   "cell_type": "code",
   "execution_count": null,
   "id": "89af65b5-b1b4-49c4-82dd-9808198595c4",
   "metadata": {},
   "outputs": [
    {
     "name": "stdout",
     "output_type": "stream",
     "text": [
      "data/frames/P01  has been completed.\n"
     ]
    },
    {
     "name": "stderr",
     "output_type": "stream",
     "text": [
      "  1%|          | 3342/276859 [00:23<23:51, 191.03it/s] "
     ]
    }
   ],
   "source": [
    "# Process videos into frames and save them\n",
    "data_dir = 'data'\n",
    "video_path = os.path.join(data_dir, 'videos')\n",
    "frame_path = os.path.join(data_dir, 'frames')\n",
    "\n",
    "# If videos directory doesn't exist, then raise an error\n",
    "if not os.path.exists(video_path): raise ValueError(\"'data/videos' folder not found.\")\n",
    "videos = [f for f in os.listdir(video_path) if not f.startswith('.')]\n",
    "if not videos: raise ValueError(\"No video files found in the 'data/videos' folder.\")\n",
    "\n",
    "# If the frame directory doesn't exist, create it\n",
    "if not os.path.exists(frame_path):\n",
    "    os.makedirs(frame_path)\n",
    "\n",
    "for filename in os.listdir(video_path):\n",
    "    if filename.startswith('.'): continue\n",
    "    video_file = os.path.join(video_path, filename)\n",
    "    \n",
    "    # If the folders for the frames doesn't exist, make it\n",
    "    video_file_name = os.path.join(frame_path, os.path.splitext(filename)[0])\n",
    "    if not os.path.exists(video_file_name):\n",
    "        os.makedirs(video_file_name)\n",
    "        \n",
    "    # To keep track of frame count for saving frames\n",
    "    frameCount = 0\n",
    "    \n",
    "    # Use VideoCapture with the video path\n",
    "    capture = cv2.VideoCapture(video_file)\n",
    "    \n",
    "    # Get number of frames for visual progress bar\n",
    "    vid_length = int(capture.get(cv2.CAP_PROP_FRAME_COUNT))\n",
    "    \n",
    "    # If the folder already has correct number of frames, don't redo everything\n",
    "    files = os.listdir(video_file_name)\n",
    "    file_count = len(files)\n",
    "\n",
    "    if file_count >= vid_length:\n",
    "        print(video_file_name, ' has been completed.')\n",
    "    else:\n",
    "        for i in tqdm(range(vid_length)):\n",
    "            success, frame = capture.read()\n",
    "            if success: cv2.imwrite(os.path.join(video_file_name, \"{:08d}\".format(frameCount)+\".jpg\"), frame)\n",
    "            else: break\n",
    "            frameCount = frameCount + 1\n",
    "        print(video_file_name, ' has been completed.')"
   ]
  },
  {
   "cell_type": "markdown",
   "id": "23d4e681-348f-49d1-b098-c695cee5b743",
   "metadata": {},
   "source": [
    "# Load the dataset"
   ]
  },
  {
   "cell_type": "code",
   "execution_count": null,
   "id": "abf72531-4882-4549-8703-abf68e46037e",
   "metadata": {},
   "outputs": [],
   "source": [
    "# mat = scipy.io.loadmat('data/labels/P01/neg_gtimages/00001636.jpg.mat')\n",
    "# mat"
   ]
  }
 ],
 "metadata": {
  "kernelspec": {
   "display_name": "Python",
   "language": "python",
   "name": "python3"
  },
  "language_info": {
   "codemirror_mode": {
    "name": "ipython",
    "version": 3
   },
   "file_extension": ".py",
   "mimetype": "text/x-python",
   "name": "python",
   "nbconvert_exporter": "python",
   "pygments_lexer": "ipython3",
   "version": "3.8.10"
  }
 },
 "nbformat": 4,
 "nbformat_minor": 5
}
