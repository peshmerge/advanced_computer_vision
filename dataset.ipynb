{
 "cells": [
  {
   "cell_type": "markdown",
   "id": "00e600b1-305c-4f35-8c49-ebb6869bc7d4",
   "metadata": {},
   "source": [
    "# Pre-Requisite Installations"
   ]
  },
  {
   "cell_type": "markdown",
   "id": "b2b4499f-8dbc-44e8-a9d8-c6824047036e",
   "metadata": {},
   "source": [
    "Please do the following steps initially:\n",
    "- Install the AWS CLI from: https://aws.amazon.com/cli/\n",
    "- Open a command line and type `aws configure`\n",
    "- Leave the default region blank, and enter your AWS access id and secret key when prompted.\n",
    "\n",
    "**(NOTE: Requires python >= 3.8)**\n",
    "\n",
    "Dependencies (run the command in the next cell if you need these dependencies installed):\n",
    "- boto3\n",
    "- moviepy\n",
    "- wget (not needed)"
   ]
  },
  {
   "cell_type": "code",
   "execution_count": 11,
   "id": "4aed3b40-765c-4127-9578-0f26d9c4da94",
   "metadata": {},
   "outputs": [],
   "source": [
    "# # Run these commands to install dependencies\n",
    "# %pip install boto3\n",
    "# %pip install moviepy\n",
    "# %pip install wget (not needed)"
   ]
  },
  {
   "cell_type": "markdown",
   "id": "78e34712-40bb-4ef6-b101-ad358a668cb9",
   "metadata": {},
   "source": [
    "# Import everything that is needed"
   ]
  },
  {
   "cell_type": "code",
   "execution_count": 12,
   "id": "4c661bf5-2766-436b-aaef-505495a7e0e3",
   "metadata": {},
   "outputs": [],
   "source": [
    "# General imports\n",
    "import os\n",
    "import json\n",
    "import shutil\n",
    "import random\n",
    "import regex as re\n",
    "import warnings\n",
    "import uuid\n",
    "\n",
    "# Video clipping\n",
    "import datetime\n",
    "from moviepy.editor import *\n",
    "import subprocess\n",
    "\n",
    "# Setup of ego4d downloads\n",
    "from zipfile import ZipFile\n",
    "import requests\n",
    "from io import BytesIO\n",
    "\n",
    "# Custom classes\n",
    "from utils import cd"
   ]
  },
  {
   "cell_type": "code",
   "execution_count": 28,
   "id": "e89568b0",
   "metadata": {},
   "outputs": [],
   "source": [
    "# Setup and Data paths that are defined here\n",
    "PROFILE_NAME = '' # NOTE: If you have a profile name for AWS cli, enter here\n",
    "DATA_DIR = 'data'\n",
    "EGO4D_SETUP_DIR = 'ego4d_setup'\n",
    "VIDEO_PATH = os.path.join(DATA_DIR, 'videos')\n",
    "ANNOTATION_PATH = os.path.join(DATA_DIR, 'annotations')\n",
    "TRAINING_PATH = os.path.join(VIDEO_PATH, 'training')\n",
    "TESTING_PATH = os.path.join(VIDEO_PATH, 'testing')\n",
    "VALIDATION_PATH = os.path.join(VIDEO_PATH, 'validation')"
   ]
  },
  {
   "cell_type": "markdown",
   "id": "1c3d13c3-6950-4008-899c-024325eb2200",
   "metadata": {},
   "source": [
    "# Download and Prepare Dataset"
   ]
  },
  {
   "cell_type": "code",
   "execution_count": 21,
   "id": "0e514531-f2fe-437e-ae2a-7cdd08481314",
   "metadata": {},
   "outputs": [],
   "source": [
    "# Prepare directories and setup\n",
    "def perform_setup(delete_annotations=False, delete_clips=False, delete_setup=False, delete_data=False):\n",
    "    # If you want to delete already existing folders and contents\n",
    "    if delete_setup and os.path.exists(EGO4D_SETUP_DIR): shutil.rmtree(EGO4D_SETUP_DIR)\n",
    "    if delete_clips and os.path.exists(VIDEO_PATH): shutil.rmtree(VIDEO_PATH)\n",
    "    if delete_annotations and os.path.exists(ANNOTATION_PATH): shutil.rmtree(ANNOTATION_PATH)\n",
    "    if delete_data and os.path.exists(DATA_DIR): shutil.rmtree(DATA_DIR)\n",
    "\n",
    "    # If any dir doesn't exist, make it\n",
    "    if not os.path.exists(EGO4D_SETUP_DIR): os.makedirs(EGO4D_SETUP_DIR)\n",
    "    if not os.path.exists(ANNOTATION_PATH): os.makedirs(ANNOTATION_PATH)\n",
    "    if not os.path.exists(VIDEO_PATH): os.makedirs(VIDEO_PATH)\n",
    "    if not os.path.exists(TRAINING_PATH): os.makedirs(TRAINING_PATH)\n",
    "    if not os.path.exists(TESTING_PATH): os.makedirs(TESTING_PATH)\n",
    "    if not os.path.exists(VALIDATION_PATH): os.makedirs(VALIDATION_PATH)\n",
    "\n",
    "# Uncomment to setup the dataset\n",
    "# delete_annotations: resets data/annotations \n",
    "# delete_clips: resets data/videos\n",
    "# delete_setup: resets ego4d_setup directory (should be deleted normally anyway)\n",
    "# delete_data: deletes all of data directory and its subdirectories\n",
    "perform_setup(delete_clips=True)"
   ]
  },
  {
   "cell_type": "markdown",
   "id": "3e13a01b",
   "metadata": {},
   "source": [
    "> Retrieve ego4d data retrieval tool"
   ]
  },
  {
   "cell_type": "code",
   "execution_count": 22,
   "id": "5788c8cd-8157-4eb4-88bc-70a8dda25404",
   "metadata": {
    "tags": []
   },
   "outputs": [
    {
     "name": "stdout",
     "output_type": "stream",
     "text": [
      "Downloading the setup zip file..\n",
      "Finished retrieving the setup files.\n"
     ]
    }
   ],
   "source": [
    "# Retrieve the zip file for setup\n",
    "print('Downloading the setup zip file..')\n",
    "\n",
    "#Defining the zip file URL\n",
    "url = 'https://github.com/facebookresearch/Ego4d/archive/refs/heads/main.zip'\n",
    "# Split URL to get the file name\n",
    "filename = url.split('/')[-1]\n",
    "\n",
    "# Downloading the file by sending the request to the URL\n",
    "req = requests.get(url)\n",
    "\n",
    "# extracting the zip file contents\n",
    "zipfile= ZipFile(BytesIO(req.content))\n",
    "zipfile.extractall(EGO4D_SETUP_DIR)\n",
    "print('Finished retrieving the setup files.')"
   ]
  },
  {
   "cell_type": "code",
   "execution_count": 23,
   "id": "7c64aaed",
   "metadata": {},
   "outputs": [
    {
     "name": "stdout",
     "output_type": "stream",
     "text": [
      "Annotations already present!\n"
     ]
    }
   ],
   "source": [
    "# Setting up the annotations and retrieving it\n",
    "def setup_annotations(annotation_regex):\n",
    "    # Check if annotations are already present\n",
    "    if os.path.exists(ANNOTATION_PATH):\n",
    "        files = next(os.walk(ANNOTATION_PATH), (None, None, []))[2]\n",
    "        rgx = re.compile(annotation_regex)\n",
    "        newlist = list(filter(rgx.match, files))\n",
    "\n",
    "        # If not present, then download the annotations and save them\n",
    "        if not newlist:\n",
    "            print('Downloading annotations..')\n",
    "\n",
    "            # Command to download ALL annotations\n",
    "            if PROFILE_NAME:\n",
    "                command = ['python', '-m', 'ego4d.cli.cli', '--output_directory=ego4d_data', '--datasets', 'annotations', '--aws_PROFILE_NAME', PROFILE_NAME, '--yes']\n",
    "            else:\n",
    "                command = ['python', '-m', 'ego4d.cli.cli', '--output_directory=ego4d_data', '--datasets', 'annotations', '--yes']\n",
    "            with cd(os.path.join(EGO4D_SETUP_DIR, \"Ego4d-main\")):\n",
    "                subprocess.run(command, check=True)\n",
    "            # Copy and save only needed annotations in the data directory\n",
    "            annotation_dir = os.path.join(EGO4D_SETUP_DIR, \"Ego4d-main\", \"ego4d_data\", \"v1\", \"annotations\")\n",
    "            for file in os.listdir(annotation_dir):\n",
    "                if \"moments\" in file: # TODO: Should be changed later to not have string\n",
    "                    shutil.copy(os.path.join(annotation_dir, file), os.path.join(ANNOTATION_PATH))\n",
    "            print('Finished downloading and setting up annotations.')\n",
    "        else:\n",
    "            print('Annotations already present!')\n",
    "        \n",
    "# Setting up the annotations\n",
    "# annnotation_regex: regular expression of the files you want to copy from ALL annotations\n",
    "setup_annotations(\"moments*\")"
   ]
  },
  {
   "cell_type": "markdown",
   "id": "bee899e5-8327-4cd1-b6a7-7d068d41ebf4",
   "metadata": {},
   "source": [
    "# Pre-Process"
   ]
  },
  {
   "cell_type": "markdown",
   "id": "7dc4fc5a",
   "metadata": {},
   "source": [
    "### Process moments_train.json\n",
    "> Process moments_train.json and filter videos with given classes."
   ]
  },
  {
   "cell_type": "code",
   "execution_count": 24,
   "id": "e7c43cee",
   "metadata": {},
   "outputs": [],
   "source": [
    "# The classes to be used in this project\n",
    "classes = [\"wash_dishes_/_utensils_/_bakeware_etc.\", \"use_phone\", \"browse_through_clothing_items_on_rack_/_shelf_/_hanger\"]\n",
    "# Training, testing, and validation annotation files\n",
    "# Filtered clip uids dictionary containing only classes listed above\n",
    "filtered_dict = {\n",
    "    'training': {\n",
    "        'file_name': 'moments_train.json',\n",
    "        'count': 15,\n",
    "        'data': {}\n",
    "    },\n",
    "    'testing': {\n",
    "        'file_name': 'moments_val.json',\n",
    "        'count': 5,\n",
    "        'data': {}\n",
    "    },\n",
    "    'validation': {\n",
    "        'file_name': 'moments_val.json',\n",
    "        'count': 5,\n",
    "        'data': {}\n",
    "    }\n",
    "}\n",
    "\n",
    "for data_type in filtered_dict:\n",
    "    with open(os.path.join(ANNOTATION_PATH, filtered_dict[data_type]['file_name']), 'r') as json_file:\n",
    "        # Load the annotation file\n",
    "        loaded_json = json.load(json_file)\n",
    "\n",
    "        # For each video and for each clips within the video\n",
    "        # retrieve clip_uid, video_uids, label, start_time, and end_time\n",
    "        for video in loaded_json['videos']:\n",
    "            for clip in video['clips']:\n",
    "                filtered_dict[data_type]['data'][clip[\"clip_uid\"]] = {\n",
    "                    \"video_uid\": video[\"video_uid\"],\n",
    "                    \"annotations\": {}\n",
    "                }\n",
    "                annotation = clip[\"annotations\"][0]\n",
    "                for label_item in annotation[\"labels\"]:\n",
    "                    label = label_item[\"label\"]\n",
    "                    if label in classes and (label_item[\"end_time\"] - label_item[\"start_time\"] >= 5):\n",
    "                        if label in filtered_dict[data_type]['data'][clip[\"clip_uid\"]][\"annotations\"]:\n",
    "                            filtered_dict[data_type]['data'][clip[\"clip_uid\"]][\"annotations\"][label].append({\n",
    "                                \"start_time\": label_item[\"start_time\"],\n",
    "                                \"end_time\": label_item[\"end_time\"]\n",
    "                            })\n",
    "                        else:\n",
    "                            filtered_dict[data_type]['data'][clip[\"clip_uid\"]][\"annotations\"][label] = [{\n",
    "                                \"start_time\": label_item[\"start_time\"],\n",
    "                                \"end_time\": label_item[\"end_time\"]\n",
    "                            }]\n",
    "                # Filter to make sure no clips with empty annotations are taken\n",
    "                if not filtered_dict[data_type]['data'][clip[\"clip_uid\"]][\"annotations\"]:\n",
    "                    del filtered_dict[data_type]['data'][clip[\"clip_uid\"]]"
   ]
  },
  {
   "cell_type": "code",
   "execution_count": 25,
   "id": "03b3e2ec",
   "metadata": {},
   "outputs": [],
   "source": [
    "# print(len(filtered_dict))\n",
    "# with open('test.json', 'w') as jp:\n",
    "#     json.dump(filtered_dict, jp, indent=4)"
   ]
  },
  {
   "cell_type": "markdown",
   "id": "446d6f92",
   "metadata": {},
   "source": [
    "### Trim videos into clips\n",
    "> Using moviepy, split videos into clips"
   ]
  },
  {
   "cell_type": "code",
   "execution_count": 26,
   "id": "134d7734",
   "metadata": {},
   "outputs": [],
   "source": [
    "# Function to cut/trim the video to desired lengths and save it\n",
    "def cut_video(VIDEO_PATH, times, save_path):\n",
    "    # Load the video once and close using context manager\n",
    "    with VideoFileClip(VIDEO_PATH, target_resolution=(224,224), resize_algorithm=\"fast_bilinear\", audio=False) as vid_clip:\n",
    "        for segment in times:\n",
    "            # Segment information and random filename generation\n",
    "            start_time = segment['start_time']\n",
    "            end_time = segment['end_time']\n",
    "            fileName = f\"{uuid.uuid1()}.mp4\"\n",
    "\n",
    "            # Convert the amount of seconds in time xx:xx:xx.xxxxxx\n",
    "            start_time = str(datetime.timedelta(seconds = start_time))\n",
    "            end_time = str(datetime.timedelta(seconds = end_time))\n",
    "\n",
    "            # Clip the video and save it to the specified path\n",
    "            clip = vid_clip.subclip(start_time, end_time)\n",
    "            if not os.path.exists(save_path): os.makedirs(save_path)\n",
    "            clip.write_videofile(os.path.join(save_path, fileName), threads=8, logger=None, preset=\"ultrafast\")\n",
    "            clip.close()"
   ]
  },
  {
   "cell_type": "code",
   "execution_count": 27,
   "id": "c95fc5c0",
   "metadata": {},
   "outputs": [
    {
     "name": "stdout",
     "output_type": "stream",
     "text": [
      "Processing clips for class: browse_through_clothing_items_on_rack_/_shelf_/_hanger\n",
      "Datasets to download: {'clips'}\n",
      "Download Path: temp_clip/v1\n",
      "Downloading Ego4D metadata json..\n",
      "Ego4D Metadata: temp_clip/ego4d.json\n",
      "Checking requested datasets and versions...\n",
      "Created download directory for version 'v1' of dataset: 'clips' at: temp_clip/v1/clips\n",
      "Only downloading a subset of the video files because the 'video_uids' flag has been set on the command line or in the config file. A total of 1 video files will be downloaded.\n",
      "\n",
      "Retrieving object metadata from S3...\n",
      "Checking if latest file versions are already downloaded...\n"
     ]
    },
    {
     "name": "stderr",
     "output_type": "stream",
     "text": [
      "100%|██████████| 1/1 [00:00<00:00, 1096.84object/s]\n",
      "100%|██████████| 1/1 [00:00<00:00,  5.93file/s]\n",
      "  0%|          | 0.00/728k [00:00<?, ?b/s]"
     ]
    },
    {
     "name": "stdout",
     "output_type": "stream",
     "text": [
      "No existing videos to filter.\n",
      "Downloading 1 files..\n"
     ]
    },
    {
     "name": "stderr",
     "output_type": "stream",
     "text": [
      "100%|██████████| 728k/728k [00:15<00:00, 47.7Mb/s] \n"
     ]
    },
    {
     "name": "stdout",
     "output_type": "stream",
     "text": [
      "Checking file integrity...\n",
      "Datasets to download: {'clips'}\n",
      "Download Path: temp_clip/v1\n",
      "Ego4D Metadata: temp_clip/ego4d.json\n",
      "Checking requested datasets and versions...\n",
      "Created download directory for version 'v1' of dataset: 'clips' at: temp_clip/v1/clips\n",
      "Only downloading a subset of the video files because the 'video_uids' flag has been set on the command line or in the config file. A total of 1 video files will be downloaded.\n",
      "\n",
      "Retrieving object metadata from S3...\n",
      "Checking if latest file versions are already downloaded...\n"
     ]
    },
    {
     "name": "stderr",
     "output_type": "stream",
     "text": [
      "100%|██████████| 1/1 [00:00<00:00, 1106.38object/s]\n",
      "100%|██████████| 1/1 [00:00<00:00,  6.02file/s]\n",
      "  0%|          | 0.00/742k [00:00<?, ?b/s]"
     ]
    },
    {
     "name": "stdout",
     "output_type": "stream",
     "text": [
      "No existing videos to filter.\n",
      "Downloading 1 files..\n"
     ]
    },
    {
     "name": "stderr",
     "output_type": "stream",
     "text": [
      "100%|██████████| 742k/742k [00:13<00:00, 55.6Mb/s] \n"
     ]
    },
    {
     "name": "stdout",
     "output_type": "stream",
     "text": [
      "Checking file integrity...\n",
      "Datasets to download: {'clips'}\n",
      "Download Path: temp_clip/v1\n",
      "Ego4D Metadata: temp_clip/ego4d.json\n",
      "Checking requested datasets and versions...\n",
      "Created download directory for version 'v1' of dataset: 'clips' at: temp_clip/v1/clips\n",
      "Only downloading a subset of the video files because the 'video_uids' flag has been set on the command line or in the config file. A total of 1 video files will be downloaded.\n",
      "\n",
      "Retrieving object metadata from S3...\n",
      "Checking if latest file versions are already downloaded...\n"
     ]
    },
    {
     "name": "stderr",
     "output_type": "stream",
     "text": [
      "100%|██████████| 1/1 [00:00<00:00, 1144.42object/s]\n",
      "100%|██████████| 1/1 [00:00<00:00,  5.89file/s]\n",
      "  0%|          | 0.00/749k [00:00<?, ?b/s]"
     ]
    },
    {
     "name": "stdout",
     "output_type": "stream",
     "text": [
      "No existing videos to filter.\n",
      "Downloading 1 files..\n"
     ]
    },
    {
     "name": "stderr",
     "output_type": "stream",
     "text": [
      "100%|██████████| 749k/749k [00:15<00:00, 48.4Mb/s] \n"
     ]
    },
    {
     "name": "stdout",
     "output_type": "stream",
     "text": [
      "Checking file integrity...\n",
      "Datasets to download: {'clips'}\n",
      "Download Path: temp_clip/v1\n",
      "Ego4D Metadata: temp_clip/ego4d.json\n",
      "Checking requested datasets and versions...\n",
      "Created download directory for version 'v1' of dataset: 'clips' at: temp_clip/v1/clips\n",
      "Only downloading a subset of the video files because the 'video_uids' flag has been set on the command line or in the config file. A total of 1 video files will be downloaded.\n",
      "\n",
      "Retrieving object metadata from S3...\n",
      "Checking if latest file versions are already downloaded...\n"
     ]
    },
    {
     "name": "stderr",
     "output_type": "stream",
     "text": [
      "100%|██████████| 1/1 [00:00<00:00, 1062.93object/s]\n",
      "100%|██████████| 1/1 [00:00<00:00,  5.78file/s]\n",
      "  0%|          | 0.00/622k [00:00<?, ?b/s]"
     ]
    },
    {
     "name": "stdout",
     "output_type": "stream",
     "text": [
      "No existing videos to filter.\n",
      "Downloading 1 files..\n"
     ]
    },
    {
     "name": "stderr",
     "output_type": "stream",
     "text": [
      "100%|█████████▉| 620k/622k [00:16<00:00, 50.4Mb/s] "
     ]
    },
    {
     "name": "stdout",
     "output_type": "stream",
     "text": [
      "Checking file integrity...\n"
     ]
    },
    {
     "name": "stderr",
     "output_type": "stream",
     "text": [
      "100%|██████████| 622k/622k [00:16<00:00, 38.6Mb/s]\n"
     ]
    },
    {
     "name": "stdout",
     "output_type": "stream",
     "text": [
      "Datasets to download: {'clips'}\n",
      "Download Path: temp_clip/v1\n",
      "Ego4D Metadata: temp_clip/ego4d.json\n",
      "Checking requested datasets and versions...\n",
      "Created download directory for version 'v1' of dataset: 'clips' at: temp_clip/v1/clips\n",
      "Only downloading a subset of the video files because the 'video_uids' flag has been set on the command line or in the config file. A total of 1 video files will be downloaded.\n",
      "\n",
      "Retrieving object metadata from S3...\n",
      "Checking if latest file versions are already downloaded...\n"
     ]
    },
    {
     "name": "stderr",
     "output_type": "stream",
     "text": [
      "100%|██████████| 1/1 [00:00<00:00, 1182.16object/s]\n",
      "100%|██████████| 1/1 [00:00<00:00,  5.96file/s]\n",
      "  0%|          | 0.00/647k [00:00<?, ?b/s]"
     ]
    },
    {
     "name": "stdout",
     "output_type": "stream",
     "text": [
      "No existing videos to filter.\n",
      "Downloading 1 files..\n"
     ]
    },
    {
     "name": "stderr",
     "output_type": "stream",
     "text": [
      "100%|██████████| 647k/647k [00:16<00:00, 39.1Mb/s] \n"
     ]
    },
    {
     "name": "stdout",
     "output_type": "stream",
     "text": [
      "Checking file integrity...\n",
      "Datasets to download: {'clips'}\n",
      "Download Path: temp_clip/v1\n",
      "Ego4D Metadata: temp_clip/ego4d.json\n",
      "Checking requested datasets and versions...\n",
      "Created download directory for version 'v1' of dataset: 'clips' at: temp_clip/v1/clips\n",
      "Only downloading a subset of the video files because the 'video_uids' flag has been set on the command line or in the config file. A total of 1 video files will be downloaded.\n",
      "\n",
      "Retrieving object metadata from S3...\n",
      "Checking if latest file versions are already downloaded...\n"
     ]
    },
    {
     "name": "stderr",
     "output_type": "stream",
     "text": [
      "100%|██████████| 1/1 [00:00<00:00, 1161.54object/s]\n",
      "100%|██████████| 1/1 [00:00<00:00,  5.98file/s]\n",
      "  0%|          | 0.00/710k [00:00<?, ?b/s]"
     ]
    },
    {
     "name": "stdout",
     "output_type": "stream",
     "text": [
      "No existing videos to filter.\n",
      "Downloading 1 files..\n"
     ]
    },
    {
     "name": "stderr",
     "output_type": "stream",
     "text": [
      "100%|██████████| 710k/710k [00:17<00:00, 41.5Mb/s] \n"
     ]
    },
    {
     "name": "stdout",
     "output_type": "stream",
     "text": [
      "Checking file integrity...\n",
      "Datasets to download: {'clips'}\n",
      "Download Path: temp_clip/v1\n",
      "Ego4D Metadata: temp_clip/ego4d.json\n",
      "Checking requested datasets and versions...\n",
      "Created download directory for version 'v1' of dataset: 'clips' at: temp_clip/v1/clips\n",
      "Only downloading a subset of the video files because the 'video_uids' flag has been set on the command line or in the config file. A total of 1 video files will be downloaded.\n",
      "\n",
      "Retrieving object metadata from S3...\n",
      "Checking if latest file versions are already downloaded...\n"
     ]
    },
    {
     "name": "stderr",
     "output_type": "stream",
     "text": [
      "100%|██████████| 1/1 [00:00<00:00, 1070.52object/s]\n",
      "100%|██████████| 1/1 [00:00<00:00,  5.94file/s]\n",
      "  0%|          | 0.00/672k [00:00<?, ?b/s]"
     ]
    },
    {
     "name": "stdout",
     "output_type": "stream",
     "text": [
      "No existing videos to filter.\n",
      "Downloading 1 files..\n"
     ]
    },
    {
     "name": "stderr",
     "output_type": "stream",
     "text": [
      "100%|██████████| 672k/672k [00:15<00:00, 44.7Mb/s] \n"
     ]
    },
    {
     "name": "stdout",
     "output_type": "stream",
     "text": [
      "Checking file integrity...\n",
      "Datasets to download: {'clips'}\n",
      "Download Path: temp_clip/v1\n",
      "Ego4D Metadata: temp_clip/ego4d.json\n",
      "Checking requested datasets and versions...\n",
      "Created download directory for version 'v1' of dataset: 'clips' at: temp_clip/v1/clips\n",
      "Only downloading a subset of the video files because the 'video_uids' flag has been set on the command line or in the config file. A total of 1 video files will be downloaded.\n",
      "\n",
      "Retrieving object metadata from S3...\n",
      "Checking if latest file versions are already downloaded...\n"
     ]
    },
    {
     "name": "stderr",
     "output_type": "stream",
     "text": [
      "100%|██████████| 1/1 [00:00<00:00, 1104.93object/s]\n",
      "100%|██████████| 1/1 [00:00<00:00,  5.93file/s]\n",
      "  0%|          | 0.00/688k [00:00<?, ?b/s]"
     ]
    },
    {
     "name": "stdout",
     "output_type": "stream",
     "text": [
      "No existing videos to filter.\n",
      "Downloading 1 files..\n"
     ]
    },
    {
     "name": "stderr",
     "output_type": "stream",
     "text": [
      "100%|██████████| 688k/688k [00:17<00:00, 39.8Mb/s] \n"
     ]
    },
    {
     "name": "stdout",
     "output_type": "stream",
     "text": [
      "Checking file integrity...\n",
      "Datasets to download: {'clips'}\n",
      "Download Path: temp_clip/v1\n",
      "Ego4D Metadata: temp_clip/ego4d.json\n",
      "Checking requested datasets and versions...\n",
      "Created download directory for version 'v1' of dataset: 'clips' at: temp_clip/v1/clips\n",
      "Only downloading a subset of the video files because the 'video_uids' flag has been set on the command line or in the config file. A total of 1 video files will be downloaded.\n",
      "\n",
      "Retrieving object metadata from S3...\n",
      "Checking if latest file versions are already downloaded...\n"
     ]
    },
    {
     "name": "stderr",
     "output_type": "stream",
     "text": [
      "100%|██████████| 1/1 [00:00<00:00, 1195.98object/s]\n",
      "100%|██████████| 1/1 [00:00<00:00,  5.79file/s]\n",
      "  0%|          | 0.00/741k [00:00<?, ?b/s]"
     ]
    },
    {
     "name": "stdout",
     "output_type": "stream",
     "text": [
      "No existing videos to filter.\n",
      "Downloading 1 files..\n"
     ]
    },
    {
     "name": "stderr",
     "output_type": "stream",
     "text": [
      "100%|█████████▉| 739k/741k [00:16<00:00, 30.9Mb/s] "
     ]
    },
    {
     "name": "stdout",
     "output_type": "stream",
     "text": [
      "Checking file integrity...\n"
     ]
    },
    {
     "name": "stderr",
     "output_type": "stream",
     "text": [
      "100%|██████████| 741k/741k [00:17<00:00, 43.6Mb/s]\n"
     ]
    },
    {
     "name": "stdout",
     "output_type": "stream",
     "text": [
      "Datasets to download: {'clips'}\n",
      "Download Path: temp_clip/v1\n",
      "Ego4D Metadata: temp_clip/ego4d.json\n",
      "Checking requested datasets and versions...\n",
      "Created download directory for version 'v1' of dataset: 'clips' at: temp_clip/v1/clips\n",
      "Only downloading a subset of the video files because the 'video_uids' flag has been set on the command line or in the config file. A total of 1 video files will be downloaded.\n",
      "\n",
      "Retrieving object metadata from S3...\n",
      "Checking if latest file versions are already downloaded...\n"
     ]
    },
    {
     "name": "stderr",
     "output_type": "stream",
     "text": [
      "100%|██████████| 1/1 [00:00<00:00, 1028.77object/s]\n",
      "100%|██████████| 1/1 [00:02<00:00,  2.19s/file]\n",
      "  0%|          | 0.00/604k [00:00<?, ?b/s]"
     ]
    },
    {
     "name": "stdout",
     "output_type": "stream",
     "text": [
      "No existing videos to filter.\n",
      "Downloading 1 files..\n"
     ]
    },
    {
     "name": "stderr",
     "output_type": "stream",
     "text": [
      "100%|██████████| 604k/604k [00:10<00:00, 59.7Mb/s] \n"
     ]
    },
    {
     "name": "stdout",
     "output_type": "stream",
     "text": [
      "Checking file integrity...\n",
      "Datasets to download: {'clips'}\n",
      "Download Path: temp_clip/v1\n",
      "Ego4D Metadata: temp_clip/ego4d.json\n",
      "Checking requested datasets and versions...\n",
      "Created download directory for version 'v1' of dataset: 'clips' at: temp_clip/v1/clips\n",
      "Only downloading a subset of the video files because the 'video_uids' flag has been set on the command line or in the config file. A total of 1 video files will be downloaded.\n",
      "\n",
      "Retrieving object metadata from S3...\n",
      "Checking if latest file versions are already downloaded...\n"
     ]
    },
    {
     "name": "stderr",
     "output_type": "stream",
     "text": [
      "100%|██████████| 1/1 [00:00<00:00, 1035.37object/s]\n",
      "100%|██████████| 1/1 [00:00<00:00,  6.01file/s]\n",
      "  0%|          | 0.00/727k [00:00<?, ?b/s]"
     ]
    },
    {
     "name": "stdout",
     "output_type": "stream",
     "text": [
      "No existing videos to filter.\n",
      "Downloading 1 files..\n"
     ]
    },
    {
     "name": "stderr",
     "output_type": "stream",
     "text": [
      "100%|██████████| 727k/727k [00:16<00:00, 43.8Mb/s] \n"
     ]
    },
    {
     "name": "stdout",
     "output_type": "stream",
     "text": [
      "Checking file integrity...\n",
      "Datasets to download: {'clips'}\n",
      "Download Path: temp_clip/v1\n",
      "Ego4D Metadata: temp_clip/ego4d.json\n",
      "Checking requested datasets and versions...\n",
      "Created download directory for version 'v1' of dataset: 'clips' at: temp_clip/v1/clips\n",
      "Only downloading a subset of the video files because the 'video_uids' flag has been set on the command line or in the config file. A total of 1 video files will be downloaded.\n",
      "\n",
      "Retrieving object metadata from S3...\n",
      "Checking if latest file versions are already downloaded...\n"
     ]
    },
    {
     "name": "stderr",
     "output_type": "stream",
     "text": [
      "100%|██████████| 1/1 [00:00<00:00, 1110.19object/s]\n",
      "100%|██████████| 1/1 [00:00<00:00,  5.96file/s]\n",
      "  0%|          | 0.00/542k [00:00<?, ?b/s]"
     ]
    },
    {
     "name": "stdout",
     "output_type": "stream",
     "text": [
      "No existing videos to filter.\n",
      "Downloading 1 files..\n"
     ]
    },
    {
     "name": "stderr",
     "output_type": "stream",
     "text": [
      "100%|██████████| 542k/542k [00:11<00:00, 46.9Mb/s] \n"
     ]
    },
    {
     "name": "stdout",
     "output_type": "stream",
     "text": [
      "Checking file integrity...\n",
      "Datasets to download: {'clips'}\n",
      "Download Path: temp_clip/v1\n",
      "Ego4D Metadata: temp_clip/ego4d.json\n",
      "Checking requested datasets and versions...\n",
      "Created download directory for version 'v1' of dataset: 'clips' at: temp_clip/v1/clips\n",
      "Only downloading a subset of the video files because the 'video_uids' flag has been set on the command line or in the config file. A total of 1 video files will be downloaded.\n",
      "\n",
      "Retrieving object metadata from S3...\n",
      "Checking if latest file versions are already downloaded...\n"
     ]
    },
    {
     "name": "stderr",
     "output_type": "stream",
     "text": [
      "100%|██████████| 1/1 [00:00<00:00, 1126.29object/s]\n",
      "100%|██████████| 1/1 [00:00<00:00,  6.12file/s]\n",
      "  0%|          | 0.00/676k [00:00<?, ?b/s]"
     ]
    },
    {
     "name": "stdout",
     "output_type": "stream",
     "text": [
      "No existing videos to filter.\n",
      "Downloading 1 files..\n"
     ]
    },
    {
     "name": "stderr",
     "output_type": "stream",
     "text": [
      "100%|██████████| 676k/676k [00:09<00:00, 70.3Mb/s] \n"
     ]
    },
    {
     "name": "stdout",
     "output_type": "stream",
     "text": [
      "Checking file integrity...\n",
      "Datasets to download: {'clips'}\n",
      "Download Path: temp_clip/v1\n",
      "Ego4D Metadata: temp_clip/ego4d.json\n",
      "Checking requested datasets and versions...\n",
      "Created download directory for version 'v1' of dataset: 'clips' at: temp_clip/v1/clips\n",
      "Only downloading a subset of the video files because the 'video_uids' flag has been set on the command line or in the config file. A total of 1 video files will be downloaded.\n",
      "\n",
      "Retrieving object metadata from S3...\n",
      "Checking if latest file versions are already downloaded...\n"
     ]
    },
    {
     "name": "stderr",
     "output_type": "stream",
     "text": [
      "100%|██████████| 1/1 [00:00<00:00, 1187.52object/s]\n",
      "100%|██████████| 1/1 [00:00<00:00,  5.92file/s]\n",
      "  0%|          | 0.00/696k [00:00<?, ?b/s]"
     ]
    },
    {
     "name": "stdout",
     "output_type": "stream",
     "text": [
      "No existing videos to filter.\n",
      "Downloading 1 files..\n"
     ]
    },
    {
     "name": "stderr",
     "output_type": "stream",
     "text": [
      "100%|██████████| 696k/696k [00:11<00:00, 58.5Mb/s] \n"
     ]
    },
    {
     "name": "stdout",
     "output_type": "stream",
     "text": [
      "Checking file integrity...\n",
      "Datasets to download: {'clips'}\n",
      "Download Path: temp_clip/v1\n",
      "Ego4D Metadata: temp_clip/ego4d.json\n",
      "Checking requested datasets and versions...\n",
      "Created download directory for version 'v1' of dataset: 'clips' at: temp_clip/v1/clips\n",
      "Only downloading a subset of the video files because the 'video_uids' flag has been set on the command line or in the config file. A total of 1 video files will be downloaded.\n",
      "\n",
      "Retrieving object metadata from S3...\n",
      "Checking if latest file versions are already downloaded...\n"
     ]
    },
    {
     "name": "stderr",
     "output_type": "stream",
     "text": [
      "100%|██████████| 1/1 [00:00<00:00, 1121.17object/s]\n",
      "100%|██████████| 1/1 [00:00<00:00,  6.16file/s]\n",
      "  0%|          | 0.00/760k [00:00<?, ?b/s]"
     ]
    },
    {
     "name": "stdout",
     "output_type": "stream",
     "text": [
      "No existing videos to filter.\n",
      "Downloading 1 files..\n"
     ]
    },
    {
     "name": "stderr",
     "output_type": "stream",
     "text": [
      "100%|██████████| 760k/760k [00:10<00:00, 71.2Mb/s] \n"
     ]
    },
    {
     "name": "stdout",
     "output_type": "stream",
     "text": [
      "Checking file integrity...\n",
      "Processing clips for class: wash_dishes_/_utensils_/_bakeware_etc.\n",
      "Datasets to download: {'clips'}\n",
      "Download Path: temp_clip/v1\n",
      "Ego4D Metadata: temp_clip/ego4d.json\n",
      "Checking requested datasets and versions...\n",
      "Created download directory for version 'v1' of dataset: 'clips' at: temp_clip/v1/clips\n",
      "Only downloading a subset of the video files because the 'video_uids' flag has been set on the command line or in the config file. A total of 1 video files will be downloaded.\n",
      "\n",
      "Retrieving object metadata from S3...\n",
      "Checking if latest file versions are already downloaded...\n"
     ]
    },
    {
     "name": "stderr",
     "output_type": "stream",
     "text": [
      "100%|██████████| 1/1 [00:00<00:00, 942.54object/s]\n",
      "100%|██████████| 1/1 [00:01<00:00,  1.96s/file]\n",
      "  0%|          | 0.00/551k [00:00<?, ?b/s]"
     ]
    },
    {
     "name": "stdout",
     "output_type": "stream",
     "text": [
      "No existing videos to filter.\n",
      "Downloading 1 files..\n"
     ]
    },
    {
     "name": "stderr",
     "output_type": "stream",
     "text": [
      "100%|██████████| 551k/551k [00:15<00:00, 35.2Mb/s] \n"
     ]
    },
    {
     "name": "stdout",
     "output_type": "stream",
     "text": [
      "Checking file integrity...\n",
      "Datasets to download: {'clips'}\n",
      "Download Path: temp_clip/v1\n",
      "Ego4D Metadata: temp_clip/ego4d.json\n",
      "Checking requested datasets and versions...\n",
      "Created download directory for version 'v1' of dataset: 'clips' at: temp_clip/v1/clips\n",
      "Only downloading a subset of the video files because the 'video_uids' flag has been set on the command line or in the config file. A total of 1 video files will be downloaded.\n",
      "\n",
      "Retrieving object metadata from S3...\n",
      "Checking if latest file versions are already downloaded...\n"
     ]
    },
    {
     "name": "stderr",
     "output_type": "stream",
     "text": [
      "100%|██████████| 1/1 [00:00<00:00, 1065.90object/s]\n",
      "100%|██████████| 1/1 [00:01<00:00,  1.09s/file]\n",
      "  0%|          | 0.00/568k [00:00<?, ?b/s]"
     ]
    },
    {
     "name": "stdout",
     "output_type": "stream",
     "text": [
      "No existing videos to filter.\n",
      "Downloading 1 files..\n"
     ]
    },
    {
     "name": "stderr",
     "output_type": "stream",
     "text": [
      "100%|██████████| 568k/568k [00:06<00:00, 82.0Mb/s] \n"
     ]
    },
    {
     "name": "stdout",
     "output_type": "stream",
     "text": [
      "Checking file integrity...\n",
      "Datasets to download: {'clips'}\n",
      "Download Path: temp_clip/v1\n",
      "Ego4D Metadata: temp_clip/ego4d.json\n",
      "Checking requested datasets and versions...\n",
      "Created download directory for version 'v1' of dataset: 'clips' at: temp_clip/v1/clips\n",
      "Only downloading a subset of the video files because the 'video_uids' flag has been set on the command line or in the config file. A total of 1 video files will be downloaded.\n",
      "\n",
      "Retrieving object metadata from S3...\n",
      "Checking if latest file versions are already downloaded...\n"
     ]
    },
    {
     "name": "stderr",
     "output_type": "stream",
     "text": [
      "100%|██████████| 1/1 [00:00<00:00, 1060.51object/s]\n",
      "100%|██████████| 1/1 [00:02<00:00,  2.19s/file]\n",
      "  0%|          | 0.00/523k [00:00<?, ?b/s]"
     ]
    },
    {
     "name": "stdout",
     "output_type": "stream",
     "text": [
      "No existing videos to filter.\n",
      "Downloading 1 files..\n"
     ]
    },
    {
     "name": "stderr",
     "output_type": "stream",
     "text": [
      "100%|██████████| 523k/523k [00:15<00:00, 33.5Mb/s] \n"
     ]
    },
    {
     "name": "stdout",
     "output_type": "stream",
     "text": [
      "Checking file integrity...\n",
      "Datasets to download: {'clips'}\n",
      "Download Path: temp_clip/v1\n",
      "Ego4D Metadata: temp_clip/ego4d.json\n",
      "Checking requested datasets and versions...\n",
      "Created download directory for version 'v1' of dataset: 'clips' at: temp_clip/v1/clips\n",
      "Only downloading a subset of the video files because the 'video_uids' flag has been set on the command line or in the config file. A total of 1 video files will be downloaded.\n",
      "\n",
      "Retrieving object metadata from S3...\n",
      "Checking if latest file versions are already downloaded...\n"
     ]
    },
    {
     "name": "stderr",
     "output_type": "stream",
     "text": [
      "100%|██████████| 1/1 [00:00<00:00, 1065.08object/s]\n",
      "100%|██████████| 1/1 [00:02<00:00,  2.17s/file]\n",
      "  0%|          | 0.00/597k [00:00<?, ?b/s]"
     ]
    },
    {
     "name": "stdout",
     "output_type": "stream",
     "text": [
      "No existing videos to filter.\n",
      "Downloading 1 files..\n"
     ]
    },
    {
     "name": "stderr",
     "output_type": "stream",
     "text": [
      "100%|██████████| 597k/597k [00:17<00:00, 33.8Mb/s] \n"
     ]
    },
    {
     "name": "stdout",
     "output_type": "stream",
     "text": [
      "Checking file integrity...\n",
      "Datasets to download: {'clips'}\n",
      "Download Path: temp_clip/v1\n",
      "Ego4D Metadata: temp_clip/ego4d.json\n",
      "Checking requested datasets and versions...\n",
      "Created download directory for version 'v1' of dataset: 'clips' at: temp_clip/v1/clips\n",
      "Only downloading a subset of the video files because the 'video_uids' flag has been set on the command line or in the config file. A total of 1 video files will be downloaded.\n",
      "\n",
      "Retrieving object metadata from S3...\n",
      "Checking if latest file versions are already downloaded...\n"
     ]
    },
    {
     "name": "stderr",
     "output_type": "stream",
     "text": [
      "100%|██████████| 1/1 [00:00<00:00, 1131.15object/s]\n",
      "100%|██████████| 1/1 [00:02<00:00,  2.19s/file]\n",
      "  0%|          | 0.00/583k [00:00<?, ?b/s]"
     ]
    },
    {
     "name": "stdout",
     "output_type": "stream",
     "text": [
      "No existing videos to filter.\n",
      "Downloading 1 files..\n"
     ]
    },
    {
     "name": "stderr",
     "output_type": "stream",
     "text": [
      "100%|██████████| 583k/583k [00:15<00:00, 36.5Mb/s] \n"
     ]
    },
    {
     "name": "stdout",
     "output_type": "stream",
     "text": [
      "Checking file integrity...\n",
      "Datasets to download: {'clips'}\n",
      "Download Path: temp_clip/v1\n",
      "Ego4D Metadata: temp_clip/ego4d.json\n",
      "Checking requested datasets and versions...\n",
      "Created download directory for version 'v1' of dataset: 'clips' at: temp_clip/v1/clips\n",
      "Only downloading a subset of the video files because the 'video_uids' flag has been set on the command line or in the config file. A total of 1 video files will be downloaded.\n",
      "\n",
      "Retrieving object metadata from S3...\n",
      "Checking if latest file versions are already downloaded...\n"
     ]
    },
    {
     "name": "stderr",
     "output_type": "stream",
     "text": [
      "100%|██████████| 1/1 [00:00<00:00, 990.39object/s]\n",
      "100%|██████████| 1/1 [00:02<00:00,  2.17s/file]\n",
      "  0%|          | 0.00/639k [00:00<?, ?b/s]"
     ]
    },
    {
     "name": "stdout",
     "output_type": "stream",
     "text": [
      "No existing videos to filter.\n",
      "Downloading 1 files..\n"
     ]
    },
    {
     "name": "stderr",
     "output_type": "stream",
     "text": [
      "100%|██████████| 639k/639k [00:13<00:00, 47.7Mb/s] \n"
     ]
    },
    {
     "name": "stdout",
     "output_type": "stream",
     "text": [
      "Checking file integrity...\n",
      "Datasets to download: {'clips'}\n",
      "Download Path: temp_clip/v1\n",
      "Ego4D Metadata: temp_clip/ego4d.json\n",
      "Checking requested datasets and versions...\n",
      "Created download directory for version 'v1' of dataset: 'clips' at: temp_clip/v1/clips\n",
      "Only downloading a subset of the video files because the 'video_uids' flag has been set on the command line or in the config file. A total of 1 video files will be downloaded.\n",
      "\n",
      "Retrieving object metadata from S3...\n",
      "Checking if latest file versions are already downloaded...\n"
     ]
    },
    {
     "name": "stderr",
     "output_type": "stream",
     "text": [
      "100%|██████████| 1/1 [00:00<00:00, 1193.26object/s]\n",
      "100%|██████████| 1/1 [00:01<00:00,  1.07s/file]\n",
      "  0%|          | 0.00/537k [00:00<?, ?b/s]"
     ]
    },
    {
     "name": "stdout",
     "output_type": "stream",
     "text": [
      "No existing videos to filter.\n",
      "Downloading 1 files..\n"
     ]
    },
    {
     "name": "stderr",
     "output_type": "stream",
     "text": [
      "100%|██████████| 537k/537k [00:06<00:00, 87.6Mb/s] \n"
     ]
    },
    {
     "name": "stdout",
     "output_type": "stream",
     "text": [
      "Checking file integrity...\n",
      "Datasets to download: {'clips'}\n",
      "Download Path: temp_clip/v1\n",
      "Ego4D Metadata: temp_clip/ego4d.json\n",
      "Checking requested datasets and versions...\n",
      "Created download directory for version 'v1' of dataset: 'clips' at: temp_clip/v1/clips\n",
      "Only downloading a subset of the video files because the 'video_uids' flag has been set on the command line or in the config file. A total of 1 video files will be downloaded.\n",
      "\n",
      "Retrieving object metadata from S3...\n",
      "Checking if latest file versions are already downloaded...\n"
     ]
    },
    {
     "name": "stderr",
     "output_type": "stream",
     "text": [
      "100%|██████████| 1/1 [00:00<00:00, 1162.50object/s]\n",
      "100%|██████████| 1/1 [00:02<00:00,  2.20s/file]\n",
      "  0%|          | 0.00/497k [00:00<?, ?b/s]"
     ]
    },
    {
     "name": "stdout",
     "output_type": "stream",
     "text": [
      "No existing videos to filter.\n",
      "Downloading 1 files..\n"
     ]
    },
    {
     "name": "stderr",
     "output_type": "stream",
     "text": [
      "100%|██████████| 497k/497k [00:11<00:00, 44.2Mb/s] \n"
     ]
    },
    {
     "name": "stdout",
     "output_type": "stream",
     "text": [
      "Checking file integrity...\n",
      "Datasets to download: {'clips'}\n",
      "Download Path: temp_clip/v1\n",
      "Ego4D Metadata: temp_clip/ego4d.json\n",
      "Checking requested datasets and versions...\n",
      "Created download directory for version 'v1' of dataset: 'clips' at: temp_clip/v1/clips\n",
      "Only downloading a subset of the video files because the 'video_uids' flag has been set on the command line or in the config file. A total of 1 video files will be downloaded.\n",
      "\n",
      "Retrieving object metadata from S3...\n",
      "Checking if latest file versions are already downloaded...\n"
     ]
    },
    {
     "name": "stderr",
     "output_type": "stream",
     "text": [
      "100%|██████████| 1/1 [00:00<00:00, 907.27object/s]\n",
      "100%|██████████| 1/1 [00:02<00:00,  2.19s/file]\n",
      "  0%|          | 0.00/635k [00:00<?, ?b/s]"
     ]
    },
    {
     "name": "stdout",
     "output_type": "stream",
     "text": [
      "No existing videos to filter.\n",
      "Downloading 1 files..\n"
     ]
    },
    {
     "name": "stderr",
     "output_type": "stream",
     "text": [
      "100%|██████████| 635k/635k [00:16<00:00, 37.9Mb/s] \n"
     ]
    },
    {
     "name": "stdout",
     "output_type": "stream",
     "text": [
      "Checking file integrity...\n",
      "Datasets to download: {'clips'}\n",
      "Download Path: temp_clip/v1\n",
      "Ego4D Metadata: temp_clip/ego4d.json\n",
      "Checking requested datasets and versions...\n",
      "Created download directory for version 'v1' of dataset: 'clips' at: temp_clip/v1/clips\n",
      "Only downloading a subset of the video files because the 'video_uids' flag has been set on the command line or in the config file. A total of 1 video files will be downloaded.\n",
      "\n",
      "Retrieving object metadata from S3...\n",
      "Checking if latest file versions are already downloaded...\n"
     ]
    },
    {
     "name": "stderr",
     "output_type": "stream",
     "text": [
      "100%|██████████| 1/1 [00:00<00:00, 1228.20object/s]\n",
      "100%|██████████| 1/1 [00:02<00:00,  2.17s/file]\n",
      "  0%|          | 0.00/519k [00:00<?, ?b/s]"
     ]
    },
    {
     "name": "stdout",
     "output_type": "stream",
     "text": [
      "No existing videos to filter.\n",
      "Downloading 1 files..\n"
     ]
    },
    {
     "name": "stderr",
     "output_type": "stream",
     "text": [
      "100%|██████████| 519k/519k [00:16<00:00, 31.9Mb/s] \n"
     ]
    },
    {
     "name": "stdout",
     "output_type": "stream",
     "text": [
      "Checking file integrity...\n",
      "Datasets to download: {'clips'}\n",
      "Download Path: temp_clip/v1\n",
      "Ego4D Metadata: temp_clip/ego4d.json\n",
      "Checking requested datasets and versions...\n",
      "Created download directory for version 'v1' of dataset: 'clips' at: temp_clip/v1/clips\n",
      "Only downloading a subset of the video files because the 'video_uids' flag has been set on the command line or in the config file. A total of 1 video files will be downloaded.\n",
      "\n",
      "Retrieving object metadata from S3...\n",
      "Checking if latest file versions are already downloaded...\n"
     ]
    },
    {
     "name": "stderr",
     "output_type": "stream",
     "text": [
      "100%|██████████| 1/1 [00:00<00:00, 1228.20object/s]\n",
      "100%|██████████| 1/1 [00:02<00:00,  2.16s/file]\n",
      "  0%|          | 0.00/512k [00:00<?, ?b/s]"
     ]
    },
    {
     "name": "stdout",
     "output_type": "stream",
     "text": [
      "No existing videos to filter.\n",
      "Downloading 1 files..\n"
     ]
    },
    {
     "name": "stderr",
     "output_type": "stream",
     "text": [
      "100%|██████████| 512k/512k [00:14<00:00, 34.8Mb/s] \n"
     ]
    },
    {
     "name": "stdout",
     "output_type": "stream",
     "text": [
      "Checking file integrity...\n",
      "Datasets to download: {'clips'}\n",
      "Download Path: temp_clip/v1\n",
      "Ego4D Metadata: temp_clip/ego4d.json\n",
      "Checking requested datasets and versions...\n",
      "Created download directory for version 'v1' of dataset: 'clips' at: temp_clip/v1/clips\n",
      "Only downloading a subset of the video files because the 'video_uids' flag has been set on the command line or in the config file. A total of 1 video files will be downloaded.\n",
      "\n",
      "Retrieving object metadata from S3...\n",
      "Checking if latest file versions are already downloaded...\n"
     ]
    },
    {
     "name": "stderr",
     "output_type": "stream",
     "text": [
      "100%|██████████| 1/1 [00:00<00:00, 1035.37object/s]\n",
      "100%|██████████| 1/1 [00:01<00:00,  1.91s/file]\n",
      "  0%|          | 0.00/516k [00:00<?, ?b/s]"
     ]
    },
    {
     "name": "stdout",
     "output_type": "stream",
     "text": [
      "No existing videos to filter.\n",
      "Downloading 1 files..\n"
     ]
    },
    {
     "name": "stderr",
     "output_type": "stream",
     "text": [
      "100%|██████████| 516k/516k [00:14<00:00, 36.3Mb/s] \n"
     ]
    },
    {
     "name": "stdout",
     "output_type": "stream",
     "text": [
      "Checking file integrity...\n",
      "Datasets to download: {'clips'}\n",
      "Download Path: temp_clip/v1\n",
      "Ego4D Metadata: temp_clip/ego4d.json\n",
      "Checking requested datasets and versions...\n",
      "Created download directory for version 'v1' of dataset: 'clips' at: temp_clip/v1/clips\n",
      "Only downloading a subset of the video files because the 'video_uids' flag has been set on the command line or in the config file. A total of 1 video files will be downloaded.\n",
      "\n",
      "Retrieving object metadata from S3...\n",
      "Checking if latest file versions are already downloaded...\n"
     ]
    },
    {
     "name": "stderr",
     "output_type": "stream",
     "text": [
      "100%|██████████| 1/1 [00:00<00:00, 1113.43object/s]\n",
      "100%|██████████| 1/1 [00:02<00:00,  2.17s/file]\n",
      "  0%|          | 0.00/592k [00:00<?, ?b/s]"
     ]
    },
    {
     "name": "stdout",
     "output_type": "stream",
     "text": [
      "No existing videos to filter.\n",
      "Downloading 1 files..\n"
     ]
    },
    {
     "name": "stderr",
     "output_type": "stream",
     "text": [
      "100%|█████████▉| 590k/592k [00:12<00:00, 26.0Mb/s] "
     ]
    },
    {
     "name": "stdout",
     "output_type": "stream",
     "text": [
      "Checking file integrity...\n"
     ]
    },
    {
     "name": "stderr",
     "output_type": "stream",
     "text": [
      "100%|██████████| 592k/592k [00:12<00:00, 46.9Mb/s]\n"
     ]
    },
    {
     "name": "stdout",
     "output_type": "stream",
     "text": [
      "Datasets to download: {'clips'}\n",
      "Download Path: temp_clip/v1\n",
      "Ego4D Metadata: temp_clip/ego4d.json\n",
      "Checking requested datasets and versions...\n",
      "Created download directory for version 'v1' of dataset: 'clips' at: temp_clip/v1/clips\n",
      "Only downloading a subset of the video files because the 'video_uids' flag has been set on the command line or in the config file. A total of 1 video files will be downloaded.\n",
      "\n",
      "Retrieving object metadata from S3...\n",
      "Checking if latest file versions are already downloaded...\n"
     ]
    },
    {
     "name": "stderr",
     "output_type": "stream",
     "text": [
      "100%|██████████| 1/1 [00:00<00:00, 1183.16object/s]\n",
      "100%|██████████| 1/1 [00:01<00:00,  1.90s/file]\n",
      "  0%|          | 0.00/567k [00:00<?, ?b/s]"
     ]
    },
    {
     "name": "stdout",
     "output_type": "stream",
     "text": [
      "No existing videos to filter.\n",
      "Downloading 1 files..\n"
     ]
    },
    {
     "name": "stderr",
     "output_type": "stream",
     "text": [
      "100%|██████████| 567k/567k [00:14<00:00, 38.3Mb/s] \n"
     ]
    },
    {
     "name": "stdout",
     "output_type": "stream",
     "text": [
      "Checking file integrity...\n",
      "Datasets to download: {'clips'}\n",
      "Download Path: temp_clip/v1\n",
      "Ego4D Metadata: temp_clip/ego4d.json\n",
      "Checking requested datasets and versions...\n",
      "Created download directory for version 'v1' of dataset: 'clips' at: temp_clip/v1/clips\n",
      "Only downloading a subset of the video files because the 'video_uids' flag has been set on the command line or in the config file. A total of 1 video files will be downloaded.\n",
      "\n",
      "Retrieving object metadata from S3...\n",
      "Checking if latest file versions are already downloaded...\n"
     ]
    },
    {
     "name": "stderr",
     "output_type": "stream",
     "text": [
      "100%|██████████| 1/1 [00:00<00:00, 1040.77object/s]\n",
      "100%|██████████| 1/1 [00:01<00:00,  1.90s/file]\n",
      "  0%|          | 0.00/537k [00:00<?, ?b/s]"
     ]
    },
    {
     "name": "stdout",
     "output_type": "stream",
     "text": [
      "No existing videos to filter.\n",
      "Downloading 1 files..\n"
     ]
    },
    {
     "name": "stderr",
     "output_type": "stream",
     "text": [
      "100%|██████████| 537k/537k [00:17<00:00, 29.9Mb/s] \n"
     ]
    },
    {
     "name": "stdout",
     "output_type": "stream",
     "text": [
      "Checking file integrity...\n",
      "Processing clips for class: use_phone\n",
      "Datasets to download: {'clips'}\n",
      "Download Path: temp_clip/v1\n",
      "Ego4D Metadata: temp_clip/ego4d.json\n",
      "Checking requested datasets and versions...\n",
      "Created download directory for version 'v1' of dataset: 'clips' at: temp_clip/v1/clips\n",
      "Only downloading a subset of the video files because the 'video_uids' flag has been set on the command line or in the config file. A total of 1 video files will be downloaded.\n",
      "\n",
      "Retrieving object metadata from S3...\n",
      "Checking if latest file versions are already downloaded...\n"
     ]
    },
    {
     "name": "stderr",
     "output_type": "stream",
     "text": [
      "100%|██████████| 1/1 [00:00<00:00, 1129.93object/s]\n",
      "100%|██████████| 1/1 [00:00<00:00,  6.00file/s]\n",
      "  0%|          | 0.00/761k [00:00<?, ?b/s]"
     ]
    },
    {
     "name": "stdout",
     "output_type": "stream",
     "text": [
      "No existing videos to filter.\n",
      "Downloading 1 files..\n"
     ]
    },
    {
     "name": "stderr",
     "output_type": "stream",
     "text": [
      "100%|██████████| 761k/761k [00:18<00:00, 41.1Mb/s] \n"
     ]
    },
    {
     "name": "stdout",
     "output_type": "stream",
     "text": [
      "Checking file integrity...\n",
      "Datasets to download: {'clips'}\n",
      "Download Path: temp_clip/v1\n",
      "Ego4D Metadata: temp_clip/ego4d.json\n",
      "Checking requested datasets and versions...\n",
      "Created download directory for version 'v1' of dataset: 'clips' at: temp_clip/v1/clips\n",
      "Only downloading a subset of the video files because the 'video_uids' flag has been set on the command line or in the config file. A total of 1 video files will be downloaded.\n",
      "\n",
      "Retrieving object metadata from S3...\n",
      "Checking if latest file versions are already downloaded...\n"
     ]
    },
    {
     "name": "stderr",
     "output_type": "stream",
     "text": [
      "100%|██████████| 1/1 [00:00<00:00, 984.35object/s]\n",
      "100%|██████████| 1/1 [00:00<00:00,  5.95file/s]\n",
      "  0%|          | 0.00/681k [00:00<?, ?b/s]"
     ]
    },
    {
     "name": "stdout",
     "output_type": "stream",
     "text": [
      "No existing videos to filter.\n",
      "Downloading 1 files..\n"
     ]
    },
    {
     "name": "stderr",
     "output_type": "stream",
     "text": [
      "100%|██████████| 681k/681k [00:16<00:00, 41.0Mb/s] \n"
     ]
    },
    {
     "name": "stdout",
     "output_type": "stream",
     "text": [
      "Checking file integrity...\n",
      "Datasets to download: {'clips'}\n",
      "Download Path: temp_clip/v1\n",
      "Ego4D Metadata: temp_clip/ego4d.json\n",
      "Checking requested datasets and versions...\n",
      "Created download directory for version 'v1' of dataset: 'clips' at: temp_clip/v1/clips\n",
      "Only downloading a subset of the video files because the 'video_uids' flag has been set on the command line or in the config file. A total of 1 video files will be downloaded.\n",
      "\n",
      "Retrieving object metadata from S3...\n",
      "Checking if latest file versions are already downloaded...\n"
     ]
    },
    {
     "name": "stderr",
     "output_type": "stream",
     "text": [
      "100%|██████████| 1/1 [00:00<00:00, 1044.92object/s]\n",
      "100%|██████████| 1/1 [00:02<00:00,  2.18s/file]\n",
      "  0%|          | 0.00/580k [00:00<?, ?b/s]"
     ]
    },
    {
     "name": "stdout",
     "output_type": "stream",
     "text": [
      "No existing videos to filter.\n",
      "Downloading 1 files..\n"
     ]
    },
    {
     "name": "stderr",
     "output_type": "stream",
     "text": [
      "100%|██████████| 580k/580k [00:15<00:00, 36.9Mb/s] \n"
     ]
    },
    {
     "name": "stdout",
     "output_type": "stream",
     "text": [
      "Checking file integrity...\n",
      "Datasets to download: {'clips'}\n",
      "Download Path: temp_clip/v1\n",
      "Ego4D Metadata: temp_clip/ego4d.json\n",
      "Checking requested datasets and versions...\n",
      "Created download directory for version 'v1' of dataset: 'clips' at: temp_clip/v1/clips\n",
      "Only downloading a subset of the video files because the 'video_uids' flag has been set on the command line or in the config file. A total of 1 video files will be downloaded.\n",
      "\n",
      "Retrieving object metadata from S3...\n",
      "Checking if latest file versions are already downloaded...\n"
     ]
    },
    {
     "name": "stderr",
     "output_type": "stream",
     "text": [
      "100%|██████████| 1/1 [00:00<00:00, 1084.92object/s]\n",
      "100%|██████████| 1/1 [00:00<00:00,  5.87file/s]\n",
      "  0%|          | 0.00/701k [00:00<?, ?b/s]"
     ]
    },
    {
     "name": "stdout",
     "output_type": "stream",
     "text": [
      "No existing videos to filter.\n",
      "Downloading 1 files..\n"
     ]
    },
    {
     "name": "stderr",
     "output_type": "stream",
     "text": [
      "100%|██████████| 701k/701k [00:25<00:00, 27.3Mb/s] \n"
     ]
    },
    {
     "name": "stdout",
     "output_type": "stream",
     "text": [
      "Checking file integrity...\n",
      "Datasets to download: {'clips'}\n",
      "Download Path: temp_clip/v1\n",
      "Ego4D Metadata: temp_clip/ego4d.json\n",
      "Checking requested datasets and versions...\n",
      "Created download directory for version 'v1' of dataset: 'clips' at: temp_clip/v1/clips\n",
      "Only downloading a subset of the video files because the 'video_uids' flag has been set on the command line or in the config file. A total of 1 video files will be downloaded.\n",
      "\n",
      "Retrieving object metadata from S3...\n",
      "Checking if latest file versions are already downloaded...\n"
     ]
    },
    {
     "name": "stderr",
     "output_type": "stream",
     "text": [
      "100%|██████████| 1/1 [00:00<00:00, 1072.16object/s]\n",
      "100%|██████████| 1/1 [00:00<00:00,  5.84file/s]\n",
      "  0%|          | 0.00/700k [00:00<?, ?b/s]"
     ]
    },
    {
     "name": "stdout",
     "output_type": "stream",
     "text": [
      "No existing videos to filter.\n",
      "Downloading 1 files..\n"
     ]
    },
    {
     "name": "stderr",
     "output_type": "stream",
     "text": [
      "100%|██████████| 700k/700k [00:19<00:00, 36.4Mb/s] \n"
     ]
    },
    {
     "name": "stdout",
     "output_type": "stream",
     "text": [
      "Checking file integrity...\n",
      "Datasets to download: {'clips'}\n",
      "Download Path: temp_clip/v1\n",
      "Ego4D Metadata: temp_clip/ego4d.json\n",
      "Checking requested datasets and versions...\n",
      "Created download directory for version 'v1' of dataset: 'clips' at: temp_clip/v1/clips\n",
      "Only downloading a subset of the video files because the 'video_uids' flag has been set on the command line or in the config file. A total of 1 video files will be downloaded.\n",
      "\n",
      "Retrieving object metadata from S3...\n",
      "Checking if latest file versions are already downloaded...\n"
     ]
    },
    {
     "name": "stderr",
     "output_type": "stream",
     "text": [
      "100%|██████████| 1/1 [00:00<00:00, 1107.26object/s]\n",
      "100%|██████████| 1/1 [00:02<00:00,  2.19s/file]\n",
      "  0%|          | 0.00/500k [00:00<?, ?b/s]"
     ]
    },
    {
     "name": "stdout",
     "output_type": "stream",
     "text": [
      "No existing videos to filter.\n",
      "Downloading 1 files..\n"
     ]
    },
    {
     "name": "stderr",
     "output_type": "stream",
     "text": [
      " 99%|█████████▉| 496k/500k [00:10<00:00, 43.2Mb/s] "
     ]
    },
    {
     "name": "stdout",
     "output_type": "stream",
     "text": [
      "Checking file integrity...\n"
     ]
    },
    {
     "name": "stderr",
     "output_type": "stream",
     "text": [
      "100%|██████████| 500k/500k [00:10<00:00, 47.0Mb/s]\n"
     ]
    },
    {
     "name": "stdout",
     "output_type": "stream",
     "text": [
      "Datasets to download: {'clips'}\n",
      "Download Path: temp_clip/v1\n",
      "Ego4D Metadata: temp_clip/ego4d.json\n",
      "Checking requested datasets and versions...\n",
      "Created download directory for version 'v1' of dataset: 'clips' at: temp_clip/v1/clips\n",
      "Only downloading a subset of the video files because the 'video_uids' flag has been set on the command line or in the config file. A total of 1 video files will be downloaded.\n",
      "\n",
      "Retrieving object metadata from S3...\n",
      "Checking if latest file versions are already downloaded...\n"
     ]
    },
    {
     "name": "stderr",
     "output_type": "stream",
     "text": [
      "100%|██████████| 1/1 [00:00<00:00, 1108.72object/s]\n",
      "100%|██████████| 1/1 [00:02<00:00,  2.26s/file]\n",
      "  0%|          | 0.00/522k [00:00<?, ?b/s]"
     ]
    },
    {
     "name": "stdout",
     "output_type": "stream",
     "text": [
      "No existing videos to filter.\n",
      "Downloading 1 files..\n"
     ]
    },
    {
     "name": "stderr",
     "output_type": "stream",
     "text": [
      "100%|██████████| 522k/522k [00:17<00:00, 29.7Mb/s] \n"
     ]
    },
    {
     "name": "stdout",
     "output_type": "stream",
     "text": [
      "Checking file integrity...\n",
      "Datasets to download: {'clips'}\n",
      "Download Path: temp_clip/v1\n",
      "Ego4D Metadata: temp_clip/ego4d.json\n",
      "Checking requested datasets and versions...\n",
      "Created download directory for version 'v1' of dataset: 'clips' at: temp_clip/v1/clips\n",
      "Only downloading a subset of the video files because the 'video_uids' flag has been set on the command line or in the config file. A total of 1 video files will be downloaded.\n",
      "\n",
      "Retrieving object metadata from S3...\n",
      "Checking if latest file versions are already downloaded...\n"
     ]
    },
    {
     "name": "stderr",
     "output_type": "stream",
     "text": [
      "100%|██████████| 1/1 [00:00<00:00, 942.33object/s]\n",
      "100%|██████████| 1/1 [00:02<00:00,  2.21s/file]\n",
      "  0%|          | 0.00/567k [00:00<?, ?b/s]"
     ]
    },
    {
     "name": "stdout",
     "output_type": "stream",
     "text": [
      "No existing videos to filter.\n",
      "Downloading 1 files..\n"
     ]
    },
    {
     "name": "stderr",
     "output_type": "stream",
     "text": [
      "100%|██████████| 567k/567k [00:08<00:00, 64.6Mb/s] \n"
     ]
    },
    {
     "name": "stdout",
     "output_type": "stream",
     "text": [
      "Checking file integrity...\n",
      "Datasets to download: {'clips'}\n",
      "Download Path: temp_clip/v1\n",
      "Ego4D Metadata: temp_clip/ego4d.json\n",
      "Checking requested datasets and versions...\n",
      "Created download directory for version 'v1' of dataset: 'clips' at: temp_clip/v1/clips\n",
      "Only downloading a subset of the video files because the 'video_uids' flag has been set on the command line or in the config file. A total of 1 video files will be downloaded.\n",
      "\n",
      "Retrieving object metadata from S3...\n",
      "Checking if latest file versions are already downloaded...\n"
     ]
    },
    {
     "name": "stderr",
     "output_type": "stream",
     "text": [
      "100%|██████████| 1/1 [00:00<00:00, 1175.20object/s]\n",
      "100%|██████████| 1/1 [00:00<00:00,  5.93file/s]\n",
      "  0%|          | 0.00/720k [00:00<?, ?b/s]"
     ]
    },
    {
     "name": "stdout",
     "output_type": "stream",
     "text": [
      "No existing videos to filter.\n",
      "Downloading 1 files..\n"
     ]
    },
    {
     "name": "stderr",
     "output_type": "stream",
     "text": [
      "100%|██████████| 720k/720k [00:18<00:00, 38.2Mb/s] \n"
     ]
    },
    {
     "name": "stdout",
     "output_type": "stream",
     "text": [
      "Checking file integrity...\n",
      "Datasets to download: {'clips'}\n",
      "Download Path: temp_clip/v1\n",
      "Ego4D Metadata: temp_clip/ego4d.json\n",
      "Checking requested datasets and versions...\n",
      "Created download directory for version 'v1' of dataset: 'clips' at: temp_clip/v1/clips\n",
      "Only downloading a subset of the video files because the 'video_uids' flag has been set on the command line or in the config file. A total of 1 video files will be downloaded.\n",
      "\n",
      "Retrieving object metadata from S3...\n",
      "Checking if latest file versions are already downloaded...\n"
     ]
    },
    {
     "name": "stderr",
     "output_type": "stream",
     "text": [
      "100%|██████████| 1/1 [00:00<00:00, 1156.09object/s]\n",
      "100%|██████████| 1/1 [00:02<00:00,  2.20s/file]\n",
      "  0%|          | 0.00/576k [00:00<?, ?b/s]"
     ]
    },
    {
     "name": "stdout",
     "output_type": "stream",
     "text": [
      "No existing videos to filter.\n",
      "Downloading 1 files..\n"
     ]
    },
    {
     "name": "stderr",
     "output_type": "stream",
     "text": [
      "100%|██████████| 576k/576k [00:14<00:00, 39.2Mb/s] \n"
     ]
    },
    {
     "name": "stdout",
     "output_type": "stream",
     "text": [
      "Checking file integrity...\n",
      "Datasets to download: {'clips'}\n",
      "Download Path: temp_clip/v1\n",
      "Ego4D Metadata: temp_clip/ego4d.json\n",
      "Checking requested datasets and versions...\n",
      "Created download directory for version 'v1' of dataset: 'clips' at: temp_clip/v1/clips\n",
      "Only downloading a subset of the video files because the 'video_uids' flag has been set on the command line or in the config file. A total of 1 video files will be downloaded.\n",
      "\n",
      "Retrieving object metadata from S3...\n",
      "Checking if latest file versions are already downloaded...\n"
     ]
    },
    {
     "name": "stderr",
     "output_type": "stream",
     "text": [
      "100%|██████████| 1/1 [00:00<00:00, 1070.79object/s]\n",
      "100%|██████████| 1/1 [00:02<00:00,  2.20s/file]\n",
      "  0%|          | 0.00/575k [00:00<?, ?b/s]"
     ]
    },
    {
     "name": "stdout",
     "output_type": "stream",
     "text": [
      "No existing videos to filter.\n",
      "Downloading 1 files..\n"
     ]
    },
    {
     "name": "stderr",
     "output_type": "stream",
     "text": [
      "100%|██████████| 575k/575k [00:10<00:00, 56.3Mb/s] \n"
     ]
    },
    {
     "name": "stdout",
     "output_type": "stream",
     "text": [
      "Checking file integrity...\n",
      "Datasets to download: {'clips'}\n",
      "Download Path: temp_clip/v1\n",
      "Ego4D Metadata: temp_clip/ego4d.json\n",
      "Checking requested datasets and versions...\n",
      "Created download directory for version 'v1' of dataset: 'clips' at: temp_clip/v1/clips\n",
      "Only downloading a subset of the video files because the 'video_uids' flag has been set on the command line or in the config file. A total of 1 video files will be downloaded.\n",
      "\n",
      "Retrieving object metadata from S3...\n",
      "Checking if latest file versions are already downloaded...\n"
     ]
    },
    {
     "name": "stderr",
     "output_type": "stream",
     "text": [
      "100%|██████████| 1/1 [00:00<00:00, 1186.51object/s]\n",
      "100%|██████████| 1/1 [00:02<00:00,  2.20s/file]\n",
      "  0%|          | 0.00/482k [00:00<?, ?b/s]"
     ]
    },
    {
     "name": "stdout",
     "output_type": "stream",
     "text": [
      "No existing videos to filter.\n",
      "Downloading 1 files..\n"
     ]
    },
    {
     "name": "stderr",
     "output_type": "stream",
     "text": [
      "100%|██████████| 482k/482k [00:14<00:00, 34.4Mb/s] \n"
     ]
    },
    {
     "name": "stdout",
     "output_type": "stream",
     "text": [
      "Checking file integrity...\n",
      "Datasets to download: {'clips'}\n",
      "Download Path: temp_clip/v1\n",
      "Ego4D Metadata: temp_clip/ego4d.json\n",
      "Checking requested datasets and versions...\n",
      "Created download directory for version 'v1' of dataset: 'clips' at: temp_clip/v1/clips\n",
      "Only downloading a subset of the video files because the 'video_uids' flag has been set on the command line or in the config file. A total of 1 video files will be downloaded.\n",
      "\n",
      "Retrieving object metadata from S3...\n",
      "Checking if latest file versions are already downloaded...\n"
     ]
    },
    {
     "name": "stderr",
     "output_type": "stream",
     "text": [
      "100%|██████████| 1/1 [00:00<00:00, 1211.88object/s]\n",
      "100%|██████████| 1/1 [00:02<00:00,  2.21s/file]\n",
      "  0%|          | 0.00/541k [00:00<?, ?b/s]"
     ]
    },
    {
     "name": "stdout",
     "output_type": "stream",
     "text": [
      "No existing videos to filter.\n",
      "Downloading 1 files..\n"
     ]
    },
    {
     "name": "stderr",
     "output_type": "stream",
     "text": [
      "100%|██████████| 541k/541k [00:19<00:00, 27.3Mb/s] \n"
     ]
    },
    {
     "name": "stdout",
     "output_type": "stream",
     "text": [
      "Checking file integrity...\n",
      "Datasets to download: {'clips'}\n",
      "Download Path: temp_clip/v1\n",
      "Ego4D Metadata: temp_clip/ego4d.json\n",
      "Checking requested datasets and versions...\n",
      "Created download directory for version 'v1' of dataset: 'clips' at: temp_clip/v1/clips\n",
      "Only downloading a subset of the video files because the 'video_uids' flag has been set on the command line or in the config file. A total of 1 video files will be downloaded.\n",
      "\n",
      "Retrieving object metadata from S3...\n",
      "Checking if latest file versions are already downloaded...\n"
     ]
    },
    {
     "name": "stderr",
     "output_type": "stream",
     "text": [
      "100%|██████████| 1/1 [00:00<00:00, 1193.60object/s]\n",
      "100%|██████████| 1/1 [00:02<00:00,  2.21s/file]\n",
      "  0%|          | 0.00/585k [00:00<?, ?b/s]"
     ]
    },
    {
     "name": "stdout",
     "output_type": "stream",
     "text": [
      "No existing videos to filter.\n",
      "Downloading 1 files..\n"
     ]
    },
    {
     "name": "stderr",
     "output_type": "stream",
     "text": [
      "100%|██████████| 585k/585k [00:19<00:00, 29.9Mb/s] \n"
     ]
    },
    {
     "name": "stdout",
     "output_type": "stream",
     "text": [
      "Checking file integrity...\n",
      "Datasets to download: {'clips'}\n",
      "Download Path: temp_clip/v1\n",
      "Ego4D Metadata: temp_clip/ego4d.json\n",
      "Checking requested datasets and versions...\n",
      "Created download directory for version 'v1' of dataset: 'clips' at: temp_clip/v1/clips\n",
      "Only downloading a subset of the video files because the 'video_uids' flag has been set on the command line or in the config file. A total of 1 video files will be downloaded.\n",
      "\n",
      "Retrieving object metadata from S3...\n",
      "Checking if latest file versions are already downloaded...\n"
     ]
    },
    {
     "name": "stderr",
     "output_type": "stream",
     "text": [
      "100%|██████████| 1/1 [00:00<00:00, 1132.68object/s]\n",
      "100%|██████████| 1/1 [00:00<00:00,  6.01file/s]\n",
      "  0%|          | 0.00/710k [00:00<?, ?b/s]"
     ]
    },
    {
     "name": "stdout",
     "output_type": "stream",
     "text": [
      "No existing videos to filter.\n",
      "Downloading 1 files..\n"
     ]
    },
    {
     "name": "stderr",
     "output_type": "stream",
     "text": [
      "100%|██████████| 710k/710k [00:13<00:00, 51.4Mb/s] \n"
     ]
    },
    {
     "name": "stdout",
     "output_type": "stream",
     "text": [
      "Checking file integrity...\n",
      "Processing clips for class: browse_through_clothing_items_on_rack_/_shelf_/_hanger\n",
      "Datasets to download: {'clips'}\n",
      "Download Path: temp_clip/v1\n",
      "Ego4D Metadata: temp_clip/ego4d.json\n",
      "Checking requested datasets and versions...\n",
      "Created download directory for version 'v1' of dataset: 'clips' at: temp_clip/v1/clips\n",
      "Only downloading a subset of the video files because the 'video_uids' flag has been set on the command line or in the config file. A total of 1 video files will be downloaded.\n",
      "\n",
      "Retrieving object metadata from S3...\n",
      "Checking if latest file versions are already downloaded...\n"
     ]
    },
    {
     "name": "stderr",
     "output_type": "stream",
     "text": [
      "100%|██████████| 1/1 [00:00<00:00, 1159.93object/s]\n",
      "100%|██████████| 1/1 [00:00<00:00,  5.90file/s]\n",
      "  0%|          | 0.00/654k [00:00<?, ?b/s]"
     ]
    },
    {
     "name": "stdout",
     "output_type": "stream",
     "text": [
      "No existing videos to filter.\n",
      "Downloading 1 files..\n"
     ]
    },
    {
     "name": "stderr",
     "output_type": "stream",
     "text": [
      "100%|██████████| 654k/654k [00:16<00:00, 39.3Mb/s] \n"
     ]
    },
    {
     "name": "stdout",
     "output_type": "stream",
     "text": [
      "Checking file integrity...\n",
      "Datasets to download: {'clips'}\n",
      "Download Path: temp_clip/v1\n",
      "Ego4D Metadata: temp_clip/ego4d.json\n",
      "Checking requested datasets and versions...\n",
      "Created download directory for version 'v1' of dataset: 'clips' at: temp_clip/v1/clips\n",
      "Only downloading a subset of the video files because the 'video_uids' flag has been set on the command line or in the config file. A total of 1 video files will be downloaded.\n",
      "\n",
      "Retrieving object metadata from S3...\n",
      "Checking if latest file versions are already downloaded...\n"
     ]
    },
    {
     "name": "stderr",
     "output_type": "stream",
     "text": [
      "100%|██████████| 1/1 [00:00<00:00, 1139.45object/s]\n",
      "100%|██████████| 1/1 [00:00<00:00,  6.02file/s]\n",
      "  0%|          | 0.00/722k [00:00<?, ?b/s]"
     ]
    },
    {
     "name": "stdout",
     "output_type": "stream",
     "text": [
      "No existing videos to filter.\n",
      "Downloading 1 files..\n"
     ]
    },
    {
     "name": "stderr",
     "output_type": "stream",
     "text": [
      "100%|██████████| 722k/722k [00:16<00:00, 43.6Mb/s] \n"
     ]
    },
    {
     "name": "stdout",
     "output_type": "stream",
     "text": [
      "Checking file integrity...\n",
      "Datasets to download: {'clips'}\n",
      "Download Path: temp_clip/v1\n",
      "Ego4D Metadata: temp_clip/ego4d.json\n",
      "Checking requested datasets and versions...\n",
      "Created download directory for version 'v1' of dataset: 'clips' at: temp_clip/v1/clips\n",
      "Only downloading a subset of the video files because the 'video_uids' flag has been set on the command line or in the config file. A total of 1 video files will be downloaded.\n",
      "\n",
      "Retrieving object metadata from S3...\n",
      "Checking if latest file versions are already downloaded...\n"
     ]
    },
    {
     "name": "stderr",
     "output_type": "stream",
     "text": [
      "100%|██████████| 1/1 [00:00<00:00, 1121.17object/s]\n",
      "100%|██████████| 1/1 [00:00<00:00,  5.83file/s]\n",
      "  0%|          | 0.00/803k [00:00<?, ?b/s]"
     ]
    },
    {
     "name": "stdout",
     "output_type": "stream",
     "text": [
      "No existing videos to filter.\n",
      "Downloading 1 files..\n"
     ]
    },
    {
     "name": "stderr",
     "output_type": "stream",
     "text": [
      "100%|██████████| 803k/803k [00:11<00:00, 67.8Mb/s] \n"
     ]
    },
    {
     "name": "stdout",
     "output_type": "stream",
     "text": [
      "Checking file integrity...\n",
      "Datasets to download: {'clips'}\n",
      "Download Path: temp_clip/v1\n",
      "Ego4D Metadata: temp_clip/ego4d.json\n",
      "Checking requested datasets and versions...\n",
      "Created download directory for version 'v1' of dataset: 'clips' at: temp_clip/v1/clips\n",
      "Only downloading a subset of the video files because the 'video_uids' flag has been set on the command line or in the config file. A total of 1 video files will be downloaded.\n",
      "\n",
      "Retrieving object metadata from S3...\n",
      "Checking if latest file versions are already downloaded...\n"
     ]
    },
    {
     "name": "stderr",
     "output_type": "stream",
     "text": [
      "100%|██████████| 1/1 [00:00<00:00, 1175.20object/s]\n",
      "100%|██████████| 1/1 [00:00<00:00,  4.69file/s]\n",
      "  0%|          | 0.00/692k [00:00<?, ?b/s]"
     ]
    },
    {
     "name": "stdout",
     "output_type": "stream",
     "text": [
      "No existing videos to filter.\n",
      "Downloading 1 files..\n"
     ]
    },
    {
     "name": "stderr",
     "output_type": "stream",
     "text": [
      "100%|██████████| 692k/692k [00:16<00:00, 41.0Mb/s] \n"
     ]
    },
    {
     "name": "stdout",
     "output_type": "stream",
     "text": [
      "Checking file integrity...\n",
      "Datasets to download: {'clips'}\n",
      "Download Path: temp_clip/v1\n",
      "Ego4D Metadata: temp_clip/ego4d.json\n",
      "Checking requested datasets and versions...\n",
      "Created download directory for version 'v1' of dataset: 'clips' at: temp_clip/v1/clips\n",
      "Only downloading a subset of the video files because the 'video_uids' flag has been set on the command line or in the config file. A total of 1 video files will be downloaded.\n",
      "\n",
      "Retrieving object metadata from S3...\n",
      "Checking if latest file versions are already downloaded...\n"
     ]
    },
    {
     "name": "stderr",
     "output_type": "stream",
     "text": [
      "100%|██████████| 1/1 [00:00<00:00, 1219.63object/s]\n",
      "100%|██████████| 1/1 [00:00<00:00,  5.94file/s]\n",
      "  0%|          | 0.00/687k [00:00<?, ?b/s]"
     ]
    },
    {
     "name": "stdout",
     "output_type": "stream",
     "text": [
      "No existing videos to filter.\n",
      "Downloading 1 files..\n"
     ]
    },
    {
     "name": "stderr",
     "output_type": "stream",
     "text": [
      "100%|██████████| 687k/687k [00:10<00:00, 63.6Mb/s] \n"
     ]
    },
    {
     "name": "stdout",
     "output_type": "stream",
     "text": [
      "Checking file integrity...\n",
      "Processing clips for class: use_phone\n",
      "Datasets to download: {'clips'}\n",
      "Download Path: temp_clip/v1\n",
      "Ego4D Metadata: temp_clip/ego4d.json\n",
      "Checking requested datasets and versions...\n",
      "Created download directory for version 'v1' of dataset: 'clips' at: temp_clip/v1/clips\n",
      "Only downloading a subset of the video files because the 'video_uids' flag has been set on the command line or in the config file. A total of 1 video files will be downloaded.\n",
      "\n",
      "Retrieving object metadata from S3...\n",
      "Checking if latest file versions are already downloaded...\n"
     ]
    },
    {
     "name": "stderr",
     "output_type": "stream",
     "text": [
      "100%|██████████| 1/1 [00:00<00:00, 1101.16object/s]\n",
      "100%|██████████| 1/1 [00:00<00:00,  5.75file/s]\n",
      "  0%|          | 0.00/876k [00:00<?, ?b/s]"
     ]
    },
    {
     "name": "stdout",
     "output_type": "stream",
     "text": [
      "No existing videos to filter.\n",
      "Downloading 1 files..\n"
     ]
    },
    {
     "name": "stderr",
     "output_type": "stream",
     "text": [
      "100%|██████████| 876k/876k [00:17<00:00, 48.7Mb/s] \n"
     ]
    },
    {
     "name": "stdout",
     "output_type": "stream",
     "text": [
      "Checking file integrity...\n",
      "Datasets to download: {'clips'}\n",
      "Download Path: temp_clip/v1\n",
      "Ego4D Metadata: temp_clip/ego4d.json\n",
      "Checking requested datasets and versions...\n",
      "Created download directory for version 'v1' of dataset: 'clips' at: temp_clip/v1/clips\n",
      "Only downloading a subset of the video files because the 'video_uids' flag has been set on the command line or in the config file. A total of 1 video files will be downloaded.\n",
      "\n",
      "Retrieving object metadata from S3...\n",
      "Checking if latest file versions are already downloaded...\n"
     ]
    },
    {
     "name": "stderr",
     "output_type": "stream",
     "text": [
      "100%|██████████| 1/1 [00:00<00:00, 975.42object/s]\n",
      "100%|██████████| 1/1 [00:01<00:00,  1.97s/file]\n",
      "  0%|          | 0.00/596k [00:00<?, ?b/s]"
     ]
    },
    {
     "name": "stdout",
     "output_type": "stream",
     "text": [
      "No existing videos to filter.\n",
      "Downloading 1 files..\n"
     ]
    },
    {
     "name": "stderr",
     "output_type": "stream",
     "text": [
      " 99%|█████████▉| 592k/596k [00:09<00:00, 30.0Mb/s] "
     ]
    },
    {
     "name": "stdout",
     "output_type": "stream",
     "text": [
      "Checking file integrity...\n"
     ]
    },
    {
     "name": "stderr",
     "output_type": "stream",
     "text": [
      "100%|██████████| 596k/596k [00:09<00:00, 60.1Mb/s]\n"
     ]
    },
    {
     "name": "stdout",
     "output_type": "stream",
     "text": [
      "Datasets to download: {'clips'}\n",
      "Download Path: temp_clip/v1\n",
      "Ego4D Metadata: temp_clip/ego4d.json\n",
      "Checking requested datasets and versions...\n",
      "Created download directory for version 'v1' of dataset: 'clips' at: temp_clip/v1/clips\n",
      "Only downloading a subset of the video files because the 'video_uids' flag has been set on the command line or in the config file. A total of 1 video files will be downloaded.\n",
      "\n",
      "Retrieving object metadata from S3...\n",
      "Checking if latest file versions are already downloaded...\n"
     ]
    },
    {
     "name": "stderr",
     "output_type": "stream",
     "text": [
      "100%|██████████| 1/1 [00:00<00:00, 1033.08object/s]\n",
      "100%|██████████| 1/1 [00:00<00:00,  5.96file/s]\n",
      "  0%|          | 0.00/915k [00:00<?, ?b/s]"
     ]
    },
    {
     "name": "stdout",
     "output_type": "stream",
     "text": [
      "No existing videos to filter.\n",
      "Downloading 1 files..\n"
     ]
    },
    {
     "name": "stderr",
     "output_type": "stream",
     "text": [
      "100%|█████████▉| 913k/915k [00:19<00:00, 32.5Mb/s] "
     ]
    },
    {
     "name": "stdout",
     "output_type": "stream",
     "text": [
      "Checking file integrity...\n"
     ]
    },
    {
     "name": "stderr",
     "output_type": "stream",
     "text": [
      "100%|██████████| 915k/915k [00:19<00:00, 47.5Mb/s]\n"
     ]
    },
    {
     "name": "stdout",
     "output_type": "stream",
     "text": [
      "Datasets to download: {'clips'}\n",
      "Download Path: temp_clip/v1\n",
      "Ego4D Metadata: temp_clip/ego4d.json\n",
      "Checking requested datasets and versions...\n",
      "Created download directory for version 'v1' of dataset: 'clips' at: temp_clip/v1/clips\n",
      "Only downloading a subset of the video files because the 'video_uids' flag has been set on the command line or in the config file. A total of 1 video files will be downloaded.\n",
      "\n",
      "Retrieving object metadata from S3...\n",
      "Checking if latest file versions are already downloaded...\n"
     ]
    },
    {
     "name": "stderr",
     "output_type": "stream",
     "text": [
      "100%|██████████| 1/1 [00:00<00:00, 1240.92object/s]\n",
      "100%|██████████| 1/1 [00:02<00:00,  2.18s/file]\n",
      "  0%|          | 0.00/581k [00:00<?, ?b/s]"
     ]
    },
    {
     "name": "stdout",
     "output_type": "stream",
     "text": [
      "No existing videos to filter.\n",
      "Downloading 1 files..\n"
     ]
    },
    {
     "name": "stderr",
     "output_type": "stream",
     "text": [
      "100%|█████████▉| 579k/581k [00:16<00:00, 35.2Mb/s] "
     ]
    },
    {
     "name": "stdout",
     "output_type": "stream",
     "text": [
      "Checking file integrity...\n"
     ]
    },
    {
     "name": "stderr",
     "output_type": "stream",
     "text": [
      "100%|██████████| 581k/581k [00:16<00:00, 34.6Mb/s]\n"
     ]
    },
    {
     "name": "stdout",
     "output_type": "stream",
     "text": [
      "Datasets to download: {'clips'}\n",
      "Download Path: temp_clip/v1\n",
      "Ego4D Metadata: temp_clip/ego4d.json\n",
      "Checking requested datasets and versions...\n",
      "Created download directory for version 'v1' of dataset: 'clips' at: temp_clip/v1/clips\n",
      "Only downloading a subset of the video files because the 'video_uids' flag has been set on the command line or in the config file. A total of 1 video files will be downloaded.\n",
      "\n",
      "Retrieving object metadata from S3...\n",
      "Checking if latest file versions are already downloaded...\n"
     ]
    },
    {
     "name": "stderr",
     "output_type": "stream",
     "text": [
      "100%|██████████| 1/1 [00:00<00:00, 1127.20object/s]\n",
      "100%|██████████| 1/1 [00:02<00:00,  2.19s/file]\n",
      "  0%|          | 0.00/535k [00:00<?, ?b/s]"
     ]
    },
    {
     "name": "stdout",
     "output_type": "stream",
     "text": [
      "No existing videos to filter.\n",
      "Downloading 1 files..\n"
     ]
    },
    {
     "name": "stderr",
     "output_type": "stream",
     "text": [
      "100%|██████████| 535k/535k [00:17<00:00, 29.9Mb/s] \n"
     ]
    },
    {
     "name": "stdout",
     "output_type": "stream",
     "text": [
      "Checking file integrity...\n",
      "Processing clips for class: wash_dishes_/_utensils_/_bakeware_etc.\n",
      "Datasets to download: {'clips'}\n",
      "Download Path: temp_clip/v1\n",
      "Ego4D Metadata: temp_clip/ego4d.json\n",
      "Checking requested datasets and versions...\n",
      "Created download directory for version 'v1' of dataset: 'clips' at: temp_clip/v1/clips\n",
      "Only downloading a subset of the video files because the 'video_uids' flag has been set on the command line or in the config file. A total of 1 video files will be downloaded.\n",
      "\n",
      "Retrieving object metadata from S3...\n",
      "Checking if latest file versions are already downloaded...\n"
     ]
    },
    {
     "name": "stderr",
     "output_type": "stream",
     "text": [
      "100%|██████████| 1/1 [00:00<00:00, 888.25object/s]\n",
      "100%|██████████| 1/1 [00:02<00:00,  2.15s/file]\n",
      "  0%|          | 0.00/594k [00:00<?, ?b/s]"
     ]
    },
    {
     "name": "stdout",
     "output_type": "stream",
     "text": [
      "No existing videos to filter.\n",
      "Downloading 1 files..\n"
     ]
    },
    {
     "name": "stderr",
     "output_type": "stream",
     "text": [
      "100%|██████████| 594k/594k [00:10<00:00, 58.1Mb/s] \n"
     ]
    },
    {
     "name": "stdout",
     "output_type": "stream",
     "text": [
      "Checking file integrity...\n",
      "Datasets to download: {'clips'}\n",
      "Download Path: temp_clip/v1\n",
      "Ego4D Metadata: temp_clip/ego4d.json\n",
      "Checking requested datasets and versions...\n",
      "Created download directory for version 'v1' of dataset: 'clips' at: temp_clip/v1/clips\n",
      "Only downloading a subset of the video files because the 'video_uids' flag has been set on the command line or in the config file. A total of 1 video files will be downloaded.\n",
      "\n",
      "Retrieving object metadata from S3...\n",
      "Checking if latest file versions are already downloaded...\n"
     ]
    },
    {
     "name": "stderr",
     "output_type": "stream",
     "text": [
      "100%|██████████| 1/1 [00:00<00:00, 1118.78object/s]\n",
      "100%|██████████| 1/1 [00:01<00:00,  1.90s/file]\n",
      "  0%|          | 0.00/627k [00:00<?, ?b/s]"
     ]
    },
    {
     "name": "stdout",
     "output_type": "stream",
     "text": [
      "No existing videos to filter.\n",
      "Downloading 1 files..\n"
     ]
    },
    {
     "name": "stderr",
     "output_type": "stream",
     "text": [
      "100%|██████████| 627k/627k [00:15<00:00, 40.7Mb/s] \n"
     ]
    },
    {
     "name": "stdout",
     "output_type": "stream",
     "text": [
      "Checking file integrity...\n",
      "Datasets to download: {'clips'}\n",
      "Download Path: temp_clip/v1\n",
      "Ego4D Metadata: temp_clip/ego4d.json\n",
      "Checking requested datasets and versions...\n",
      "Created download directory for version 'v1' of dataset: 'clips' at: temp_clip/v1/clips\n",
      "Only downloading a subset of the video files because the 'video_uids' flag has been set on the command line or in the config file. A total of 1 video files will be downloaded.\n",
      "\n",
      "Retrieving object metadata from S3...\n",
      "Checking if latest file versions are already downloaded...\n"
     ]
    },
    {
     "name": "stderr",
     "output_type": "stream",
     "text": [
      "100%|██████████| 1/1 [00:00<00:00, 1098.85object/s]\n",
      "100%|██████████| 1/1 [00:02<00:00,  2.15s/file]\n",
      "  0%|          | 0.00/605k [00:00<?, ?b/s]"
     ]
    },
    {
     "name": "stdout",
     "output_type": "stream",
     "text": [
      "No existing videos to filter.\n",
      "Downloading 1 files..\n"
     ]
    },
    {
     "name": "stderr",
     "output_type": "stream",
     "text": [
      "100%|██████████| 605k/605k [00:12<00:00, 47.1Mb/s] \n"
     ]
    },
    {
     "name": "stdout",
     "output_type": "stream",
     "text": [
      "Checking file integrity...\n",
      "Datasets to download: {'clips'}\n",
      "Download Path: temp_clip/v1\n",
      "Ego4D Metadata: temp_clip/ego4d.json\n",
      "Checking requested datasets and versions...\n",
      "Created download directory for version 'v1' of dataset: 'clips' at: temp_clip/v1/clips\n",
      "Only downloading a subset of the video files because the 'video_uids' flag has been set on the command line or in the config file. A total of 1 video files will be downloaded.\n",
      "\n",
      "Retrieving object metadata from S3...\n",
      "Checking if latest file versions are already downloaded...\n"
     ]
    },
    {
     "name": "stderr",
     "output_type": "stream",
     "text": [
      "100%|██████████| 1/1 [00:00<00:00, 1004.86object/s]\n",
      "100%|██████████| 1/1 [00:02<00:00,  2.19s/file]\n",
      "  0%|          | 0.00/727k [00:00<?, ?b/s]"
     ]
    },
    {
     "name": "stdout",
     "output_type": "stream",
     "text": [
      "No existing videos to filter.\n",
      "Downloading 1 files..\n"
     ]
    },
    {
     "name": "stderr",
     "output_type": "stream",
     "text": [
      "100%|██████████| 727k/727k [00:14<00:00, 51.1Mb/s] \n"
     ]
    },
    {
     "name": "stdout",
     "output_type": "stream",
     "text": [
      "Checking file integrity...\n",
      "Datasets to download: {'clips'}\n",
      "Download Path: temp_clip/v1\n",
      "Ego4D Metadata: temp_clip/ego4d.json\n",
      "Checking requested datasets and versions...\n",
      "Created download directory for version 'v1' of dataset: 'clips' at: temp_clip/v1/clips\n",
      "Only downloading a subset of the video files because the 'video_uids' flag has been set on the command line or in the config file. A total of 1 video files will be downloaded.\n",
      "\n",
      "Retrieving object metadata from S3...\n",
      "Checking if latest file versions are already downloaded...\n"
     ]
    },
    {
     "name": "stderr",
     "output_type": "stream",
     "text": [
      "100%|██████████| 1/1 [00:00<00:00, 955.86object/s]\n",
      "100%|██████████| 1/1 [00:02<00:00,  2.17s/file]\n",
      "  0%|          | 0.00/561k [00:00<?, ?b/s]"
     ]
    },
    {
     "name": "stdout",
     "output_type": "stream",
     "text": [
      "No existing videos to filter.\n",
      "Downloading 1 files..\n"
     ]
    },
    {
     "name": "stderr",
     "output_type": "stream",
     "text": [
      "100%|██████████| 561k/561k [00:17<00:00, 32.3Mb/s] \n"
     ]
    },
    {
     "name": "stdout",
     "output_type": "stream",
     "text": [
      "Checking file integrity...\n",
      "Processing clips for class: browse_through_clothing_items_on_rack_/_shelf_/_hanger\n",
      "Datasets to download: {'clips'}\n",
      "Download Path: temp_clip/v1\n",
      "Ego4D Metadata: temp_clip/ego4d.json\n",
      "Checking requested datasets and versions...\n",
      "Created download directory for version 'v1' of dataset: 'clips' at: temp_clip/v1/clips\n",
      "Only downloading a subset of the video files because the 'video_uids' flag has been set on the command line or in the config file. A total of 1 video files will be downloaded.\n",
      "\n",
      "Retrieving object metadata from S3...\n",
      "Checking if latest file versions are already downloaded...\n"
     ]
    },
    {
     "name": "stderr",
     "output_type": "stream",
     "text": [
      "100%|██████████| 1/1 [00:00<00:00, 1278.75object/s]\n",
      "100%|██████████| 1/1 [00:00<00:00,  5.77file/s]\n",
      "  0%|          | 0.00/678k [00:00<?, ?b/s]"
     ]
    },
    {
     "name": "stdout",
     "output_type": "stream",
     "text": [
      "No existing videos to filter.\n",
      "Downloading 1 files..\n"
     ]
    },
    {
     "name": "stderr",
     "output_type": "stream",
     "text": [
      "100%|██████████| 678k/678k [00:18<00:00, 37.4Mb/s] \n"
     ]
    },
    {
     "name": "stdout",
     "output_type": "stream",
     "text": [
      "Checking file integrity...\n",
      "Datasets to download: {'clips'}\n",
      "Download Path: temp_clip/v1\n",
      "Ego4D Metadata: temp_clip/ego4d.json\n",
      "Checking requested datasets and versions...\n",
      "Created download directory for version 'v1' of dataset: 'clips' at: temp_clip/v1/clips\n",
      "Only downloading a subset of the video files because the 'video_uids' flag has been set on the command line or in the config file. A total of 1 video files will be downloaded.\n",
      "\n",
      "Retrieving object metadata from S3...\n",
      "Checking if latest file versions are already downloaded...\n"
     ]
    },
    {
     "name": "stderr",
     "output_type": "stream",
     "text": [
      "100%|██████████| 1/1 [00:00<00:00, 1007.04object/s]\n",
      "100%|██████████| 1/1 [00:00<00:00,  5.98file/s]\n",
      "  0%|          | 0.00/663k [00:00<?, ?b/s]"
     ]
    },
    {
     "name": "stdout",
     "output_type": "stream",
     "text": [
      "No existing videos to filter.\n",
      "Downloading 1 files..\n"
     ]
    },
    {
     "name": "stderr",
     "output_type": "stream",
     "text": [
      "100%|██████████| 663k/663k [00:16<00:00, 39.2Mb/s] \n"
     ]
    },
    {
     "name": "stdout",
     "output_type": "stream",
     "text": [
      "Checking file integrity...\n",
      "Datasets to download: {'clips'}\n",
      "Download Path: temp_clip/v1\n",
      "Ego4D Metadata: temp_clip/ego4d.json\n",
      "Checking requested datasets and versions...\n",
      "Created download directory for version 'v1' of dataset: 'clips' at: temp_clip/v1/clips\n",
      "Only downloading a subset of the video files because the 'video_uids' flag has been set on the command line or in the config file. A total of 1 video files will be downloaded.\n",
      "\n",
      "Retrieving object metadata from S3...\n",
      "Checking if latest file versions are already downloaded...\n"
     ]
    },
    {
     "name": "stderr",
     "output_type": "stream",
     "text": [
      "100%|██████████| 1/1 [00:00<00:00, 978.38object/s]\n",
      "100%|██████████| 1/1 [00:00<00:00,  5.96file/s]\n",
      "  0%|          | 0.00/548k [00:00<?, ?b/s]"
     ]
    },
    {
     "name": "stdout",
     "output_type": "stream",
     "text": [
      "No existing videos to filter.\n",
      "Downloading 1 files..\n"
     ]
    },
    {
     "name": "stderr",
     "output_type": "stream",
     "text": [
      "100%|██████████| 548k/548k [00:15<00:00, 35.1Mb/s] \n"
     ]
    },
    {
     "name": "stdout",
     "output_type": "stream",
     "text": [
      "Checking file integrity...\n",
      "Datasets to download: {'clips'}\n",
      "Download Path: temp_clip/v1\n",
      "Ego4D Metadata: temp_clip/ego4d.json\n",
      "Checking requested datasets and versions...\n",
      "Created download directory for version 'v1' of dataset: 'clips' at: temp_clip/v1/clips\n",
      "Only downloading a subset of the video files because the 'video_uids' flag has been set on the command line or in the config file. A total of 1 video files will be downloaded.\n",
      "\n",
      "Retrieving object metadata from S3...\n",
      "Checking if latest file versions are already downloaded...\n"
     ]
    },
    {
     "name": "stderr",
     "output_type": "stream",
     "text": [
      "100%|██████████| 1/1 [00:00<00:00, 1017.29object/s]\n",
      "100%|██████████| 1/1 [00:00<00:00,  5.95file/s]\n",
      "  0%|          | 0.00/669k [00:00<?, ?b/s]"
     ]
    },
    {
     "name": "stdout",
     "output_type": "stream",
     "text": [
      "No existing videos to filter.\n",
      "Downloading 1 files..\n"
     ]
    },
    {
     "name": "stderr",
     "output_type": "stream",
     "text": [
      "100%|██████████| 669k/669k [00:16<00:00, 39.5Mb/s] \n"
     ]
    },
    {
     "name": "stdout",
     "output_type": "stream",
     "text": [
      "Checking file integrity...\n",
      "Datasets to download: {'clips'}\n",
      "Download Path: temp_clip/v1\n",
      "Ego4D Metadata: temp_clip/ego4d.json\n",
      "Checking requested datasets and versions...\n",
      "Created download directory for version 'v1' of dataset: 'clips' at: temp_clip/v1/clips\n",
      "Only downloading a subset of the video files because the 'video_uids' flag has been set on the command line or in the config file. A total of 1 video files will be downloaded.\n",
      "\n",
      "Retrieving object metadata from S3...\n",
      "Checking if latest file versions are already downloaded...\n"
     ]
    },
    {
     "name": "stderr",
     "output_type": "stream",
     "text": [
      "100%|██████████| 1/1 [00:00<00:00, 1072.99object/s]\n",
      "100%|██████████| 1/1 [00:00<00:00,  5.85file/s]\n",
      "  0%|          | 0.00/658k [00:00<?, ?b/s]"
     ]
    },
    {
     "name": "stdout",
     "output_type": "stream",
     "text": [
      "No existing videos to filter.\n",
      "Downloading 1 files..\n"
     ]
    },
    {
     "name": "stderr",
     "output_type": "stream",
     "text": [
      "100%|██████████| 658k/658k [00:17<00:00, 38.0Mb/s] \n"
     ]
    },
    {
     "name": "stdout",
     "output_type": "stream",
     "text": [
      "Checking file integrity...\n",
      "Processing clips for class: use_phone\n",
      "Datasets to download: {'clips'}\n",
      "Download Path: temp_clip/v1\n",
      "Ego4D Metadata: temp_clip/ego4d.json\n",
      "Checking requested datasets and versions...\n",
      "Created download directory for version 'v1' of dataset: 'clips' at: temp_clip/v1/clips\n",
      "Only downloading a subset of the video files because the 'video_uids' flag has been set on the command line or in the config file. A total of 1 video files will be downloaded.\n",
      "\n",
      "Retrieving object metadata from S3...\n",
      "Checking if latest file versions are already downloaded...\n"
     ]
    },
    {
     "name": "stderr",
     "output_type": "stream",
     "text": [
      "100%|██████████| 1/1 [00:00<00:00, 1137.59object/s]\n",
      "100%|██████████| 1/1 [00:00<00:00,  5.89file/s]\n",
      "  0%|          | 0.00/784k [00:00<?, ?b/s]"
     ]
    },
    {
     "name": "stdout",
     "output_type": "stream",
     "text": [
      "No existing videos to filter.\n",
      "Downloading 1 files..\n"
     ]
    },
    {
     "name": "stderr",
     "output_type": "stream",
     "text": [
      "100%|██████████| 784k/784k [00:16<00:00, 46.8Mb/s] \n"
     ]
    },
    {
     "name": "stdout",
     "output_type": "stream",
     "text": [
      "Checking file integrity...\n",
      "Datasets to download: {'clips'}\n",
      "Download Path: temp_clip/v1\n",
      "Ego4D Metadata: temp_clip/ego4d.json\n",
      "Checking requested datasets and versions...\n",
      "Created download directory for version 'v1' of dataset: 'clips' at: temp_clip/v1/clips\n",
      "Only downloading a subset of the video files because the 'video_uids' flag has been set on the command line or in the config file. A total of 1 video files will be downloaded.\n",
      "\n",
      "Retrieving object metadata from S3...\n",
      "Checking if latest file versions are already downloaded...\n"
     ]
    },
    {
     "name": "stderr",
     "output_type": "stream",
     "text": [
      "100%|██████████| 1/1 [00:00<00:00, 962.44object/s]\n",
      "100%|██████████| 1/1 [00:00<00:00,  5.99file/s]\n",
      "  0%|          | 0.00/679k [00:00<?, ?b/s]"
     ]
    },
    {
     "name": "stdout",
     "output_type": "stream",
     "text": [
      "No existing videos to filter.\n",
      "Downloading 1 files..\n"
     ]
    },
    {
     "name": "stderr",
     "output_type": "stream",
     "text": [
      "100%|██████████| 679k/679k [00:08<00:00, 78.8Mb/s] \n"
     ]
    },
    {
     "name": "stdout",
     "output_type": "stream",
     "text": [
      "Checking file integrity...\n",
      "Datasets to download: {'clips'}\n",
      "Download Path: temp_clip/v1\n",
      "Ego4D Metadata: temp_clip/ego4d.json\n",
      "Checking requested datasets and versions...\n",
      "Created download directory for version 'v1' of dataset: 'clips' at: temp_clip/v1/clips\n",
      "Only downloading a subset of the video files because the 'video_uids' flag has been set on the command line or in the config file. A total of 1 video files will be downloaded.\n",
      "\n",
      "Retrieving object metadata from S3...\n",
      "Checking if latest file versions are already downloaded...\n"
     ]
    },
    {
     "name": "stderr",
     "output_type": "stream",
     "text": [
      "100%|██████████| 1/1 [00:00<00:00, 1025.75object/s]\n",
      "100%|██████████| 1/1 [00:00<00:00,  5.89file/s]\n",
      "  0%|          | 0.00/805k [00:00<?, ?b/s]"
     ]
    },
    {
     "name": "stdout",
     "output_type": "stream",
     "text": [
      "No existing videos to filter.\n",
      "Downloading 1 files..\n"
     ]
    },
    {
     "name": "stderr",
     "output_type": "stream",
     "text": [
      "100%|██████████| 805k/805k [00:14<00:00, 56.7Mb/s] \n"
     ]
    },
    {
     "name": "stdout",
     "output_type": "stream",
     "text": [
      "Checking file integrity...\n",
      "Datasets to download: {'clips'}\n",
      "Download Path: temp_clip/v1\n",
      "Ego4D Metadata: temp_clip/ego4d.json\n",
      "Checking requested datasets and versions...\n",
      "Created download directory for version 'v1' of dataset: 'clips' at: temp_clip/v1/clips\n",
      "Only downloading a subset of the video files because the 'video_uids' flag has been set on the command line or in the config file. A total of 1 video files will be downloaded.\n",
      "\n",
      "Retrieving object metadata from S3...\n",
      "Checking if latest file versions are already downloaded...\n"
     ]
    },
    {
     "name": "stderr",
     "output_type": "stream",
     "text": [
      "100%|██████████| 1/1 [00:00<00:00, 1221.05object/s]\n",
      "100%|██████████| 1/1 [00:00<00:00,  5.98file/s]\n",
      "  0%|          | 0.00/781k [00:00<?, ?b/s]"
     ]
    },
    {
     "name": "stdout",
     "output_type": "stream",
     "text": [
      "No existing videos to filter.\n",
      "Downloading 1 files..\n"
     ]
    },
    {
     "name": "stderr",
     "output_type": "stream",
     "text": [
      "100%|██████████| 781k/781k [00:16<00:00, 48.5Mb/s] \n"
     ]
    },
    {
     "name": "stdout",
     "output_type": "stream",
     "text": [
      "Checking file integrity...\n",
      "Datasets to download: {'clips'}\n",
      "Download Path: temp_clip/v1\n",
      "Ego4D Metadata: temp_clip/ego4d.json\n",
      "Checking requested datasets and versions...\n",
      "Created download directory for version 'v1' of dataset: 'clips' at: temp_clip/v1/clips\n",
      "Only downloading a subset of the video files because the 'video_uids' flag has been set on the command line or in the config file. A total of 1 video files will be downloaded.\n",
      "\n",
      "Retrieving object metadata from S3...\n",
      "Checking if latest file versions are already downloaded...\n"
     ]
    },
    {
     "name": "stderr",
     "output_type": "stream",
     "text": [
      "100%|██████████| 1/1 [00:00<00:00, 1269.46object/s]\n",
      "100%|██████████| 1/1 [00:02<00:00,  2.15s/file]\n",
      "  0%|          | 0.00/544k [00:00<?, ?b/s]"
     ]
    },
    {
     "name": "stdout",
     "output_type": "stream",
     "text": [
      "No existing videos to filter.\n",
      "Downloading 1 files..\n"
     ]
    },
    {
     "name": "stderr",
     "output_type": "stream",
     "text": [
      "100%|██████████| 544k/544k [00:17<00:00, 30.4Mb/s] \n"
     ]
    },
    {
     "name": "stdout",
     "output_type": "stream",
     "text": [
      "Checking file integrity...\n",
      "Processing clips for class: wash_dishes_/_utensils_/_bakeware_etc.\n",
      "Datasets to download: {'clips'}\n",
      "Download Path: temp_clip/v1\n",
      "Ego4D Metadata: temp_clip/ego4d.json\n",
      "Checking requested datasets and versions...\n",
      "Created download directory for version 'v1' of dataset: 'clips' at: temp_clip/v1/clips\n",
      "Only downloading a subset of the video files because the 'video_uids' flag has been set on the command line or in the config file. A total of 1 video files will be downloaded.\n",
      "\n",
      "Retrieving object metadata from S3...\n",
      "Checking if latest file versions are already downloaded...\n"
     ]
    },
    {
     "name": "stderr",
     "output_type": "stream",
     "text": [
      "100%|██████████| 1/1 [00:00<00:00, 1085.76object/s]\n",
      "100%|██████████| 1/1 [00:02<00:00,  2.25s/file]\n",
      "  0%|          | 0.00/566k [00:00<?, ?b/s]"
     ]
    },
    {
     "name": "stdout",
     "output_type": "stream",
     "text": [
      "No existing videos to filter.\n",
      "Downloading 1 files..\n"
     ]
    },
    {
     "name": "stderr",
     "output_type": "stream",
     "text": [
      "100%|██████████| 566k/566k [00:14<00:00, 38.9Mb/s] \n"
     ]
    },
    {
     "name": "stdout",
     "output_type": "stream",
     "text": [
      "Checking file integrity...\n",
      "Datasets to download: {'clips'}\n",
      "Download Path: temp_clip/v1\n",
      "Ego4D Metadata: temp_clip/ego4d.json\n",
      "Checking requested datasets and versions...\n",
      "Created download directory for version 'v1' of dataset: 'clips' at: temp_clip/v1/clips\n",
      "Only downloading a subset of the video files because the 'video_uids' flag has been set on the command line or in the config file. A total of 1 video files will be downloaded.\n",
      "\n",
      "Retrieving object metadata from S3...\n",
      "Checking if latest file versions are already downloaded...\n"
     ]
    },
    {
     "name": "stderr",
     "output_type": "stream",
     "text": [
      "100%|██████████| 1/1 [00:00<00:00, 885.81object/s]\n",
      "100%|██████████| 1/1 [00:01<00:00,  1.12s/file]\n",
      "  0%|          | 0.00/647k [00:00<?, ?b/s]"
     ]
    },
    {
     "name": "stdout",
     "output_type": "stream",
     "text": [
      "No existing videos to filter.\n",
      "Downloading 1 files..\n"
     ]
    },
    {
     "name": "stderr",
     "output_type": "stream",
     "text": [
      "100%|██████████| 647k/647k [00:06<00:00, 98.8Mb/s] \n"
     ]
    },
    {
     "name": "stdout",
     "output_type": "stream",
     "text": [
      "Checking file integrity...\n",
      "Datasets to download: {'clips'}\n",
      "Download Path: temp_clip/v1\n",
      "Ego4D Metadata: temp_clip/ego4d.json\n",
      "Checking requested datasets and versions...\n",
      "Created download directory for version 'v1' of dataset: 'clips' at: temp_clip/v1/clips\n",
      "Only downloading a subset of the video files because the 'video_uids' flag has been set on the command line or in the config file. A total of 1 video files will be downloaded.\n",
      "\n",
      "Retrieving object metadata from S3...\n",
      "Checking if latest file versions are already downloaded...\n"
     ]
    },
    {
     "name": "stderr",
     "output_type": "stream",
     "text": [
      "100%|██████████| 1/1 [00:00<00:00, 1140.07object/s]\n",
      "100%|██████████| 1/1 [00:02<00:00,  2.25s/file]\n",
      "  0%|          | 0.00/599k [00:00<?, ?b/s]"
     ]
    },
    {
     "name": "stdout",
     "output_type": "stream",
     "text": [
      "No existing videos to filter.\n",
      "Downloading 1 files..\n"
     ]
    },
    {
     "name": "stderr",
     "output_type": "stream",
     "text": [
      "100%|██████████| 599k/599k [00:18<00:00, 32.7Mb/s] \n"
     ]
    },
    {
     "name": "stdout",
     "output_type": "stream",
     "text": [
      "Checking file integrity...\n",
      "Datasets to download: {'clips'}\n",
      "Download Path: temp_clip/v1\n",
      "Ego4D Metadata: temp_clip/ego4d.json\n",
      "Checking requested datasets and versions...\n",
      "Created download directory for version 'v1' of dataset: 'clips' at: temp_clip/v1/clips\n",
      "Only downloading a subset of the video files because the 'video_uids' flag has been set on the command line or in the config file. A total of 1 video files will be downloaded.\n",
      "\n",
      "Retrieving object metadata from S3...\n",
      "Checking if latest file versions are already downloaded...\n"
     ]
    },
    {
     "name": "stderr",
     "output_type": "stream",
     "text": [
      "100%|██████████| 1/1 [00:00<00:00, 1065.08object/s]\n",
      "100%|██████████| 1/1 [00:01<00:00,  1.94s/file]\n",
      "  0%|          | 0.00/627k [00:00<?, ?b/s]"
     ]
    },
    {
     "name": "stdout",
     "output_type": "stream",
     "text": [
      "No existing videos to filter.\n",
      "Downloading 1 files..\n"
     ]
    },
    {
     "name": "stderr",
     "output_type": "stream",
     "text": [
      "100%|██████████| 627k/627k [00:19<00:00, 32.2Mb/s] \n"
     ]
    },
    {
     "name": "stdout",
     "output_type": "stream",
     "text": [
      "Checking file integrity...\n",
      "Datasets to download: {'clips'}\n",
      "Download Path: temp_clip/v1\n",
      "Ego4D Metadata: temp_clip/ego4d.json\n",
      "Checking requested datasets and versions...\n",
      "Created download directory for version 'v1' of dataset: 'clips' at: temp_clip/v1/clips\n",
      "Only downloading a subset of the video files because the 'video_uids' flag has been set on the command line or in the config file. A total of 1 video files will be downloaded.\n",
      "\n",
      "Retrieving object metadata from S3...\n",
      "Checking if latest file versions are already downloaded...\n"
     ]
    },
    {
     "name": "stderr",
     "output_type": "stream",
     "text": [
      "100%|██████████| 1/1 [00:00<00:00, 877.10object/s]\n",
      "100%|██████████| 1/1 [00:01<00:00,  1.94s/file]\n",
      "  0%|          | 0.00/562k [00:00<?, ?b/s]"
     ]
    },
    {
     "name": "stdout",
     "output_type": "stream",
     "text": [
      "No existing videos to filter.\n",
      "Downloading 1 files..\n"
     ]
    },
    {
     "name": "stderr",
     "output_type": "stream",
     "text": [
      "100%|██████████| 562k/562k [00:11<00:00, 50.6Mb/s] \n"
     ]
    },
    {
     "name": "stdout",
     "output_type": "stream",
     "text": [
      "Checking file integrity...\n"
     ]
    }
   ],
   "source": [
    "# %%capture cap --no-stderr\n",
    "# ^ To save the output to external file because it's waaaaay too large to display in notebook\n",
    "# Function to retrieve a sample of clips for each class\n",
    "def generate_clip_uids(filtered_annotations):\n",
    "    # Seperate clip uids by their class\n",
    "    all_clips_dict = {\n",
    "        'training': {},\n",
    "        'testing': {},\n",
    "        'validation': {}\n",
    "    }\n",
    "    for clip_type in all_clips_dict:\n",
    "        for clip_uid, clip_info in filtered_annotations[clip_type]['data'].items():\n",
    "            for annotation in clip_info[\"annotations\"]:\n",
    "                if annotation in all_clips_dict[clip_type]:\n",
    "                    all_clips_dict[clip_type][annotation].append(clip_uid)\n",
    "                else:\n",
    "                    all_clips_dict[clip_type][annotation] = [clip_uid]\n",
    "        # Grab random sample of num_clips for each class\n",
    "        for annotation in all_clips_dict[clip_type]:\n",
    "            all_clips_dict[clip_type][annotation] = random.sample(all_clips_dict[clip_type][annotation], filtered_annotations[clip_type]['count'])\n",
    "    return all_clips_dict\n",
    "\n",
    "\n",
    "# Function to download and setup the clips \n",
    "def setup_clips(filtered_annotations, save_path, overwrite=False):\n",
    "    # Check if the clips already exist if we are not overwriting\n",
    "    if not overwrite:\n",
    "        dirs = next(os.walk(VIDEO_PATH), (None, None, []))[1]\n",
    "        for dir in dirs:\n",
    "            subdirs = next(os.walk(VIDEO_PATH, dir), (None, None, []))[2]\n",
    "            for subdir in subdirs:\n",
    "                files = next(os.walk(os.path.join(VIDEO_PATH, dir, subdir)), (None, None, []))[2]\n",
    "                if dir.replace(\";\", \"/\") in all_clips_dict['training'] and files:\n",
    "                    warnings.warn(\"Clips may already exist. If you want to redo the process, set the `overwrite` argument to true while calling the function.\")\n",
    "                    return\n",
    "\n",
    "    # Get all the randomly generated clip samples and go through them\n",
    "    all_clips_dict = generate_clip_uids(filtered_annotations)\n",
    "\n",
    "    # Go through each type of data (training, testing, validation)\n",
    "    for data_type in filtered_annotations:\n",
    "        for cls, clip_uids in all_clips_dict[data_type].items():\n",
    "            useable_name = cls.replace(\"/\", \";\") # Paths can't have / in their name so, replace it\n",
    "\n",
    "            # Make sure the required path exists without old items\n",
    "            if os.path.exists(os.path.join(VIDEO_PATH, data_type, useable_name)): shutil.rmtree(os.path.join(VIDEO_PATH, data_type, useable_name))\n",
    "            os.makedirs(os.path.join(VIDEO_PATH, data_type, useable_name))\n",
    "\n",
    "            print(f\"Processing clips for class: {cls}\")\n",
    "            for clip_uid in clip_uids:\n",
    "                # Command to retrieve clip by its uid\n",
    "                if PROFILE_NAME:\n",
    "                    command = ['python', '-m', 'ego4d.cli.cli', '--output_directory=temp_clip', '--datasets', 'clips', '--video_uids', clip_uid, '--aws_PROFILE_NAME', PROFILE_NAME, '--yes']\n",
    "                else:\n",
    "                    command = ['python', '-m', 'ego4d.cli.cli', '--output_directory=temp_clip', '--datasets', 'clips', '--video_uids', clip_uid, '--yes']\n",
    "                # Path to the downloaded clip\n",
    "                full_vid_path = os.path.join(EGO4D_SETUP_DIR, \"Ego4d-main\", \"temp_clip\", \"v1\", \"clips\")\n",
    "                \n",
    "                # Use context manager to ensure any change in directory is returned to original\n",
    "                with cd(os.path.join(EGO4D_SETUP_DIR, \"Ego4d-main\")):\n",
    "                    # Download the video\n",
    "                    subprocess.run(command, check=True)\n",
    "                    \n",
    "                # Get the clip information and trim the video\n",
    "                clip_info = filtered_annotations[data_type]['data'][clip_uid]\n",
    "                for label in clip_info['annotations']:\n",
    "                    folder_label = label.replace(\"/\", \";\")\n",
    "                    cut_video(os.path.join(full_vid_path, f\"{clip_uid}.mp4\"), clip_info['annotations'][label], os.path.join(VIDEO_PATH, data_type, folder_label))\n",
    "                \n",
    "                # Clean up after for the specific clip\n",
    "                shutil.rmtree(os.path.join(EGO4D_SETUP_DIR, \"Ego4d-main\", \"temp_clip\", \"v1\"))\n",
    "    \n",
    "    # Clean up the overall setup directory\n",
    "    shutil.rmtree(EGO4D_SETUP_DIR)\n",
    "\n",
    "# Download and setup clips\n",
    "# filtered_dict: previously filtered dictionary of clips\n",
    "# VIDEO_PATH: path to save the clips\n",
    "setup_clips(filtered_dict, VIDEO_PATH)"
   ]
  },
  {
   "cell_type": "code",
   "execution_count": null,
   "id": "23a7af22",
   "metadata": {},
   "outputs": [],
   "source": []
  }
 ],
 "metadata": {
  "kernelspec": {
   "display_name": "Python 3.8.13 ('acvpr')",
   "language": "python",
   "name": "python3"
  },
  "language_info": {
   "codemirror_mode": {
    "name": "ipython",
    "version": 3
   },
   "file_extension": ".py",
   "mimetype": "text/x-python",
   "name": "python",
   "nbconvert_exporter": "python",
   "pygments_lexer": "ipython3",
   "version": "3.8.13"
  },
  "vscode": {
   "interpreter": {
    "hash": "3abfcb6a5852706a2368fe780626157966aa0a94fc44e414e400fd6502757207"
   }
  }
 },
 "nbformat": 4,
 "nbformat_minor": 5
}
